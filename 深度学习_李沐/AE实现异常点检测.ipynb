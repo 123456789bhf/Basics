{
 "cells": [
  {
   "cell_type": "code",
   "execution_count": 1,
   "id": "b7d39f68",
   "metadata": {},
   "outputs": [
    {
     "data": {
      "text/plain": [
       "'C:\\\\Users\\\\23665'"
      ]
     },
     "execution_count": 1,
     "metadata": {},
     "output_type": "execute_result"
    }
   ],
   "source": [
    "# 加载所需要的包\n",
    "import warnings\n",
    "warnings.filterwarnings(\"ignore\")\n",
    "import os \n",
    "import pandas as pd \n",
    "import numpy as np \n",
    "import matplotlib.pyplot as plt\n",
    "#plt.style.use('seaborn')\n",
    "import tensorflow as tf\n",
    "import seaborn as sns\n",
    "from sklearn.model_selection import train_test_split\n",
    "from keras.models import Model, load_model\n",
    "from keras.layers import Input, Dense,LeakyReLU,BatchNormalization\n",
    "from keras.callbacks import ModelCheckpoint\n",
    "from keras import regularizers\n",
    "from sklearn.preprocessing import StandardScaler\n",
    "from sklearn.metrics import roc_curve, auc, precision_recall_curve\n",
    "# 工作空间设置\n",
    "os.chdir('C:/Users/23665')\n",
    "os.getcwd()"
   ]
  },
  {
   "cell_type": "code",
   "execution_count": 2,
   "id": "0bf9b37e",
   "metadata": {},
   "outputs": [
    {
     "data": {
      "image/png": "[encoded data removed]",
      "text/plain": [
       "<Figure size 432x288 with 1 Axes>"
      ]
     },
     "metadata": {
      "needs_background": "light"
     },
     "output_type": "display_data"
    }
   ],
   "source": [
    "# 读取数据和简单的特征工程\n",
    "d = pd.read_csv('creditcard.csv')\n",
    "\n",
    "# 查看样本比例\n",
    "num_nonfraud = np.sum(d['Class'] == 0)\n",
    "num_fraud = np.sum(d['Class'] == 1)\n",
    "plt.bar(['Fraud', 'non-fraud'], [num_fraud, num_nonfraud], color='dodgerblue')\n",
    "plt.show()\n",
    "\n",
    "# 删除时间列，对Amount进行标准化\n",
    "data = d.drop(['Time'], axis=1)\n",
    "data['Amount'] = StandardScaler().fit_transform(data[['Amount']])\n",
    "X = data.drop(['Class'],axis=1)\n",
    "Y = data.Class"
   ]
  },
  {
   "cell_type": "code",
   "execution_count": 4,
   "id": "979a4e44",
   "metadata": {},
   "outputs": [
    {
     "name": "stdout",
     "output_type": "stream",
     "text": [
      "Epoch 1/30\n",
      "1111/1113 [============================>.] - ETA: 0s - loss: 0.3732 - mae: 0.3655 - mse: 0.3686WARNING:tensorflow:Can save best model only with val_loss available, skipping.\n",
      "1113/1113 [==============================] - 12s 6ms/step - loss: 0.3729 - mae: 0.3654 - mse: 0.3683\n",
      "Epoch 2/30\n",
      "1109/1113 [============================>.] - ETA: 0s - loss: 0.1529 - mae: 0.2357 - mse: 0.1483WARNING:tensorflow:Can save best model only with val_loss available, skipping.\n",
      "1113/1113 [==============================] - 7s 6ms/step - loss: 0.1528 - mae: 0.2356 - mse: 0.1482\n",
      "Epoch 3/30\n",
      "1104/1113 [============================>.] - ETA: 0s - loss: 0.1063 - mae: 0.1935 - mse: 0.1017WARNING:tensorflow:Can save best model only with val_loss available, skipping.\n",
      "1113/1113 [==============================] - 7s 6ms/step - loss: 0.1067 - mae: 0.1936 - mse: 0.1022\n",
      "Epoch 4/30\n",
      "1107/1113 [============================>.] - ETA: 0s - loss: 0.0897 - mae: 0.1734 - mse: 0.0851WARNING:tensorflow:Can save best model only with val_loss available, skipping.\n",
      "1113/1113 [==============================] - 7s 6ms/step - loss: 0.0896 - mae: 0.1733 - mse: 0.0851\n",
      "Epoch 5/30\n",
      "1111/1113 [============================>.] - ETA: 0s - loss: 0.0761 - mae: 0.1577 - mse: 0.0716WARNING:tensorflow:Can save best model only with val_loss available, skipping.\n",
      "1113/1113 [==============================] - 7s 6ms/step - loss: 0.0761 - mae: 0.1577 - mse: 0.0716\n",
      "Epoch 6/30\n",
      "1110/1113 [============================>.] - ETA: 0s - loss: 0.0715 - mae: 0.1494 - mse: 0.0670WARNING:tensorflow:Can save best model only with val_loss available, skipping.\n",
      "1113/1113 [==============================] - 7s 7ms/step - loss: 0.0714 - mae: 0.1494 - mse: 0.0669\n",
      "Epoch 7/30\n",
      "1108/1113 [============================>.] - ETA: 0s - loss: 0.0647 - mae: 0.1403 - mse: 0.0603WARNING:tensorflow:Can save best model only with val_loss available, skipping.\n",
      "1113/1113 [==============================] - 7s 6ms/step - loss: 0.0647 - mae: 0.1403 - mse: 0.0603\n",
      "Epoch 8/30\n",
      "1111/1113 [============================>.] - ETA: 0s - loss: 0.0602 - mae: 0.1332 - mse: 0.0557WARNING:tensorflow:Can save best model only with val_loss available, skipping.\n",
      "1113/1113 [==============================] - 7s 7ms/step - loss: 0.0602 - mae: 0.1332 - mse: 0.0557\n",
      "Epoch 9/30\n",
      "1109/1113 [============================>.] - ETA: 0s - loss: 0.0545 - mae: 0.1280 - mse: 0.0501WARNING:tensorflow:Can save best model only with val_loss available, skipping.\n",
      "1113/1113 [==============================] - 7s 7ms/step - loss: 0.0545 - mae: 0.1280 - mse: 0.0501\n",
      "Epoch 10/30\n",
      "1112/1113 [============================>.] - ETA: 0s - loss: 0.0515 - mae: 0.1233 - mse: 0.0471WARNING:tensorflow:Can save best model only with val_loss available, skipping.\n",
      "1113/1113 [==============================] - 7s 7ms/step - loss: 0.0515 - mae: 0.1233 - mse: 0.0472\n",
      "Epoch 11/30\n",
      "1108/1113 [============================>.] - ETA: 0s - loss: 0.0554 - mae: 0.1230 - mse: 0.0511WARNING:tensorflow:Can save best model only with val_loss available, skipping.\n",
      "1113/1113 [==============================] - 8s 7ms/step - loss: 0.0554 - mae: 0.1230 - mse: 0.0510\n",
      "Epoch 12/30\n",
      "1111/1113 [============================>.] - ETA: 0s - loss: 0.0483 - mae: 0.1172 - mse: 0.0439WARNING:tensorflow:Can save best model only with val_loss available, skipping.\n",
      "1113/1113 [==============================] - 8s 7ms/step - loss: 0.0483 - mae: 0.1172 - mse: 0.0439\n",
      "Epoch 13/30\n",
      " 432/1113 [==========>...................] - ETA: 4s - loss: 0.0412 - mae: 0.1119 - mse: 0.0368WARNING:tensorflow:Can save best model only with val_loss available, skipping.\n",
      "1113/1113 [==============================] - -34s -30222us/step - loss: 0.0486 - mae: 0.1144 - mse: 0.0442\n",
      "Epoch 14/30\n",
      "1112/1113 [============================>.] - ETA: 0s - loss: 0.0479 - mae: 0.1131 - mse: 0.0435WARNING:tensorflow:Can save best model only with val_loss available, skipping.\n",
      "1113/1113 [==============================] - 8s 7ms/step - loss: 0.0479 - mae: 0.1131 - mse: 0.0435\n",
      "Epoch 15/30\n",
      "1108/1113 [============================>.] - ETA: 0s - loss: 0.0472 - mae: 0.1107 - mse: 0.0429WARNING:tensorflow:Can save best model only with val_loss available, skipping.\n",
      "1113/1113 [==============================] - 8s 7ms/step - loss: 0.0472 - mae: 0.1107 - mse: 0.0428\n",
      "Epoch 16/30\n",
      "1111/1113 [============================>.] - ETA: 0s - loss: 0.0460 - mae: 0.1093 - mse: 0.0416WARNING:tensorflow:Can save best model only with val_loss available, skipping.\n",
      "1113/1113 [==============================] - 8s 7ms/step - loss: 0.0460 - mae: 0.1094 - mse: 0.0416\n",
      "Epoch 17/30\n",
      "1112/1113 [============================>.] - ETA: 0s - loss: 0.0435 - mae: 0.1062 - mse: 0.0392WARNING:tensorflow:Can save best model only with val_loss available, skipping.\n",
      "1113/1113 [==============================] - 8s 7ms/step - loss: 0.0435 - mae: 0.1062 - mse: 0.0392\n",
      "Epoch 18/30\n",
      "1106/1113 [============================>.] - ETA: 0s - loss: 0.0421 - mae: 0.1046 - mse: 0.0378WARNING:tensorflow:Can save best model only with val_loss available, skipping.\n",
      "1113/1113 [==============================] - 8s 7ms/step - loss: 0.0422 - mae: 0.1047 - mse: 0.0378\n",
      "Epoch 19/30\n",
      "1113/1113 [==============================] - ETA: 0s - loss: 0.0448 - mae: 0.1060 - mse: 0.0404WARNING:tensorflow:Can save best model only with val_loss available, skipping.\n",
      "1113/1113 [==============================] - 8s 7ms/step - loss: 0.0448 - mae: 0.1060 - mse: 0.0404\n",
      "Epoch 20/30\n",
      "1108/1113 [============================>.] - ETA: 0s - loss: 0.0426 - mae: 0.1042 - mse: 0.0383WARNING:tensorflow:Can save best model only with val_loss available, skipping.\n",
      "1113/1113 [==============================] - 8s 7ms/step - loss: 0.0426 - mae: 0.1042 - mse: 0.0382\n",
      "Epoch 21/30\n",
      "1110/1113 [============================>.] - ETA: 0s - loss: 0.0431 - mae: 0.1035 - mse: 0.0387WARNING:tensorflow:Can save best model only with val_loss available, skipping.\n",
      "1113/1113 [==============================] - 8s 7ms/step - loss: 0.0430 - mae: 0.1035 - mse: 0.0387\n",
      "Epoch 22/30\n",
      "1109/1113 [============================>.] - ETA: 0s - loss: 0.0375 - mae: 0.0995 - mse: 0.0332WARNING:tensorflow:Can save best model only with val_loss available, skipping.\n",
      "1113/1113 [==============================] - 8s 7ms/step - loss: 0.0379 - mae: 0.0996 - mse: 0.0335\n",
      "Epoch 23/30\n",
      "1106/1113 [============================>.] - ETA: 0s - loss: 0.0382 - mae: 0.0987 - mse: 0.0339WARNING:tensorflow:Can save best model only with val_loss available, skipping.\n",
      "1113/1113 [==============================] - 8s 7ms/step - loss: 0.0384 - mae: 0.0989 - mse: 0.0340\n",
      "Epoch 24/30\n",
      "1108/1113 [============================>.] - ETA: 0s - loss: 0.0409 - mae: 0.0999 - mse: 0.0365WARNING:tensorflow:Can save best model only with val_loss available, skipping.\n",
      "1113/1113 [==============================] - 8s 7ms/step - loss: 0.0411 - mae: 0.1001 - mse: 0.0367\n",
      "Epoch 25/30\n",
      "1107/1113 [============================>.] - ETA: 0s - loss: 0.0395 - mae: 0.0984 - mse: 0.0352WARNING:tensorflow:Can save best model only with val_loss available, skipping.\n",
      "1113/1113 [==============================] - 8s 7ms/step - loss: 0.0396 - mae: 0.0985 - mse: 0.0352\n",
      "Epoch 26/30\n",
      "1109/1113 [============================>.] - ETA: 0s - loss: 0.0424 - mae: 0.0998 - mse: 0.0380WARNING:tensorflow:Can save best model only with val_loss available, skipping.\n",
      "1113/1113 [==============================] - 8s 7ms/step - loss: 0.0423 - mae: 0.0998 - mse: 0.0380\n",
      "Epoch 27/30\n",
      "1106/1113 [============================>.] - ETA: 0s - loss: 0.0429 - mae: 0.1001 - mse: 0.0385WARNING:tensorflow:Can save best model only with val_loss available, skipping.\n",
      "1113/1113 [==============================] - 8s 7ms/step - loss: 0.0430 - mae: 0.1001 - mse: 0.0385\n",
      "Epoch 28/30\n",
      "1113/1113 [==============================] - ETA: 0s - loss: 0.0380 - mae: 0.0963 - mse: 0.0336WARNING:tensorflow:Can save best model only with val_loss available, skipping.\n",
      "1113/1113 [==============================] - 8s 7ms/step - loss: 0.0380 - mae: 0.0963 - mse: 0.0336\n",
      "Epoch 29/30\n",
      "1112/1113 [============================>.] - ETA: 0s - loss: 0.0363 - mae: 0.0960 - mse: 0.0319WARNING:tensorflow:Can save best model only with val_loss available, skipping.\n"
     ]
    },
    {
     "name": "stdout",
     "output_type": "stream",
     "text": [
      "1113/1113 [==============================] - 8s 7ms/step - loss: 0.0363 - mae: 0.0960 - mse: 0.0319\n",
      "Epoch 30/30\n",
      "1108/1113 [============================>.] - ETA: 0s - loss: 0.0363 - mae: 0.0954 - mse: 0.0319WARNING:tensorflow:Can save best model only with val_loss available, skipping.\n",
      "1113/1113 [==============================] - 8s 7ms/step - loss: 0.0363 - mae: 0.0954 - mse: 0.0319\n"
     ]
    }
   ],
   "source": [
    "# 设置Autoencoder的参数\n",
    "input_dim    = X.shape[1]\n",
    "encoding_dim = 128\n",
    "num_epoch    = 30\n",
    "batch_size   = 256\n",
    "\n",
    "input_layer = Input(shape=(input_dim, ))\n",
    "\n",
    "encoder = Dense(encoding_dim, \n",
    "                activation=\"tanh\", \n",
    "                activity_regularizer=regularizers.l1(10e-5)\n",
    "                )(input_layer)\n",
    "encoder =BatchNormalization()(encoder)\n",
    "encoder=LeakyReLU(alpha=0.2)(encoder)\n",
    "\n",
    "encoder = Dense(int(encoding_dim/2), \n",
    "                activation=\"relu\"\n",
    "                )(encoder)\n",
    "encoder =BatchNormalization()(encoder)\n",
    "encoder=LeakyReLU(alpha=0.1)(encoder)\n",
    "\n",
    "encoder = Dense(int(encoding_dim/4), \n",
    "                activation=\"relu\"\n",
    "                )(encoder)\n",
    "encoder =BatchNormalization()(encoder)\n",
    "\n",
    "\n",
    "\n",
    "### decoder\n",
    "decoder = LeakyReLU(alpha=0.1)(encoder)\n",
    "decoder = Dense(int(encoding_dim/4),\n",
    "                activation='tanh'\n",
    "                )(decoder)\n",
    "decoder = BatchNormalization()(decoder)\n",
    "decoder = LeakyReLU(alpha=0.1)(decoder)\n",
    "\n",
    "\n",
    "decoder = Dense(int(encoding_dim/2),\n",
    "                activation='tanh'\n",
    "                )(decoder)\n",
    "decoder = BatchNormalization()(decoder)\n",
    "decoder = LeakyReLU(alpha=0.1)(decoder)\n",
    "\n",
    "decoder = Dense(input_dim, \n",
    "                #activation='relu'\n",
    "                )(decoder)\n",
    "\n",
    "autoencoder = Model(inputs = input_layer, \n",
    "                    outputs = decoder\n",
    "                    )\n",
    "autoencoder.compile(optimizer='adam', \n",
    "                    loss='mean_squared_error', \n",
    "                    metrics=['mae','mse']\n",
    "                    )\n",
    "\n",
    "# 模型保存为 XiaoWuGe_model.h5，并开始训练模型\n",
    "checkpointer = ModelCheckpoint(filepath=\"XiaoWuGe_model.h5\",\n",
    "                               verbose=0,\n",
    "                               save_best_only=True\n",
    "                               )\n",
    "history = autoencoder.fit(X, \n",
    "                          X,\n",
    "                          epochs=num_epoch,\n",
    "                          batch_size=batch_size,\n",
    "                          shuffle=True,\n",
    "                          #validation_data=(X_test, X_test),\n",
    "                          verbose=1, \n",
    "                          callbacks=[checkpointer]\n",
    "                          ).history"
   ]
  },
  {
   "cell_type": "code",
   "execution_count": 5,
   "id": "b6257be2",
   "metadata": {},
   "outputs": [
    {
     "data": {
      "text/plain": [
       "<matplotlib.legend.Legend at 0x2133e43bdf0>"
      ]
     },
     "execution_count": 5,
     "metadata": {},
     "output_type": "execute_result"
    },
    {
     "data": {
      "image/png": "[encoded data removed]",
      "text/plain": [
       "<Figure size 1008x360 with 1 Axes>"
      ]
     },
     "metadata": {
      "needs_background": "light"
     },
     "output_type": "display_data"
    },
    {
     "data": {
      "image/png": "[encoded data removed]",
      "text/plain": [
       "<Figure size 1008x360 with 1 Axes>"
      ]
     },
     "metadata": {
      "needs_background": "light"
     },
     "output_type": "display_data"
    },
    {
     "data": {
      "image/png": "[encoded data removed]",
      "text/plain": [
       "<Figure size 1008x360 with 1 Axes>"
      ]
     },
     "metadata": {
      "needs_background": "light"
     },
     "output_type": "display_data"
    }
   ],
   "source": [
    "# 画出损失函数曲线\n",
    "plt.figure(figsize=(14, 5))\n",
    "plt.subplot(121)\n",
    "plt.plot(history['loss'], c='dodgerblue', lw=3)\n",
    "plt.title('model loss')\n",
    "plt.ylabel('mse')\n",
    "plt.xlabel('epoch')\n",
    "plt.legend(['train'], loc='upper right')\n",
    "\n",
    "\n",
    "# 画出损失函数曲线\n",
    "plt.figure(figsize=(14, 5))\n",
    "plt.subplot(121)\n",
    "plt.plot(history['mae'], c='dodgerblue', lw=3)\n",
    "plt.title('model mae')\n",
    "plt.ylabel('mae')\n",
    "plt.xlabel('epoch')\n",
    "plt.legend(['train'], loc='upper right')\n",
    "\n",
    "# 画出损失函数曲线\n",
    "plt.figure(figsize=(14, 5))\n",
    "plt.subplot(121)\n",
    "plt.plot(history['mse'], c='dodgerblue', lw=3)\n",
    "plt.title('model mse')\n",
    "plt.ylabel('mse')\n",
    "plt.xlabel('epoch')\n",
    "plt.legend(['train'], loc='upper right')"
   ]
  },
  {
   "cell_type": "code",
   "execution_count": 6,
   "id": "42f35a69",
   "metadata": {},
   "outputs": [
    {
     "name": "stdout",
     "output_type": "stream",
     "text": [
      "8901/8901 [==============================] - 19s 2ms/step\n",
      "Top1000的准确率为:0.278\n"
     ]
    }
   ],
   "source": [
    "# 读取模型\n",
    "# autoencoder = load_model('SofaSofa_model.h5')\n",
    "\n",
    "#利用训练好的autoencoder重建测试集\n",
    "pred_X  = autoencoder.predict(X)\n",
    "# 计算还原误差MSE和MAE\n",
    "mse_X = np.mean(np.power(X-pred_X,2), axis=1)\n",
    "mae_X = np.mean(np.abs(X-pred_X),     axis=1)\n",
    "\n",
    "\n",
    "data['mse_X'] = mse_X\n",
    "data['mae_X'] = mae_X\n",
    "\n",
    "\n",
    "# TopN准确率评估\n",
    "n = 1000\n",
    "df =  data.sort_values(by='mae_X',ascending=False)\n",
    "df = df.head(n)\n",
    "rate = df[df['Class']==1].shape[0]/n\n",
    "print('Top{}的准确率为:{}'.format(n,rate))"
   ]
  },
  {
   "cell_type": "code",
   "execution_count": null,
   "id": "34367057",
   "metadata": {},
   "outputs": [],
   "source": []
  }
 ],
 "metadata": {
  "kernelspec": {
   "display_name": "Python 3 (ipykernel)",
   "language": "python",
   "name": "python3"
  },
  "language_info": {
   "codemirror_mode": {
    "name": "ipython",
    "version": 3
   },
   "file_extension": ".py",
   "mimetype": "text/x-python",
   "name": "python",
   "nbconvert_exporter": "python",
   "pygments_lexer": "ipython3",
   "version": "3.9.12"
  }
 },
 "nbformat": 4,
 "nbformat_minor": 5
}
