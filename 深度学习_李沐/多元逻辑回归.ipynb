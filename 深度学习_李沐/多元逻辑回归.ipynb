{
 "cells": [
  {
   "cell_type": "code",
   "execution_count": 2,
   "id": "48535b4c",
   "metadata": {},
   "outputs": [
    {
     "name": "stdout",
     "output_type": "stream",
     "text": [
      "{'__header__': b'MATLAB 5.0 MAT-file, Platform: GLNXA64, Created on: Sun Oct 16 13:09:09 2011', '__version__': '1.0', '__globals__': [], 'X': array([[0., 0., 0., ..., 0., 0., 0.],\n",
      "       [0., 0., 0., ..., 0., 0., 0.],\n",
      "       [0., 0., 0., ..., 0., 0., 0.],\n",
      "       ...,\n",
      "       [0., 0., 0., ..., 0., 0., 0.],\n",
      "       [0., 0., 0., ..., 0., 0., 0.],\n",
      "       [0., 0., 0., ..., 0., 0., 0.]]), 'y': array([[10],\n",
      "       [10],\n",
      "       [10],\n",
      "       ...,\n",
      "       [ 9],\n",
      "       [ 9],\n",
      "       [ 9]], dtype=uint8)}\n",
      "<class 'dict'>\n",
      "dict_keys(['__header__', '__version__', '__globals__', 'X', 'y'])\n",
      "(5000, 400)\n",
      "(5000, 1)\n"
     ]
    }
   ],
   "source": [
    "import numpy as np\n",
    "import matplotlib.pyplot as plt\n",
    "import scipy.io as sio\n",
    " \n",
    "# 读入数据\n",
    "path = 'ex3data1.mat'\n",
    "data = sio.loadmat(path)\n",
    "print(data)\n",
    "print(type(data))\n",
    "print(data.keys())\n",
    "raw_X = data['X']\n",
    "raw_Y = data['y']\n",
    "# (5000, 400)\n",
    "print(raw_X.shape)\n",
    "# (5000, 1)\n",
    "print(raw_Y.shape)\n"
   ]
  },
  {
   "cell_type": "code",
   "execution_count": null,
   "id": "6262daa1",
   "metadata": {},
   "outputs": [],
   "source": []
  },
  {
   "cell_type": "code",
   "execution_count": 3,
   "id": "b248f164",
   "metadata": {},
   "outputs": [],
   "source": [
    "# 损失函数，找出最小的损失函数\n",
    "def sigmoid(z):\n",
    "    return 1 / (1 + np.exp(-z))\n",
    " \n",
    "#交叉熵损失函数\n",
    "def Cost_Function(theta, X, y, lamda):\n",
    "    A = sigmoid(X @ theta)\n",
    "    first = y * np.log(A)\n",
    "    second = (1 - y) * np.log(1 - A)\n",
    "    reg = np.sum(np.power(theta[1:], 2)) * (lamda / (2 * len(X)))\n",
    "    return -np.sum(first + second) / len(X) + reg\n",
    " \n",
    " \n",
    "def gradient_reg(theta, X, y, lamda):\n",
    "    reg = theta[1:] * (lamda / len(X))\n",
    "    reg = np.insert(reg, 0, values=0, axis=0)#插入第一行0\n",
    "    first = (X.T @ (sigmoid(X @ theta) - y)) / len(X)\n",
    "    return first + reg\n"
   ]
  },
  {
   "cell_type": "code",
   "execution_count": 4,
   "id": "11aee6ad",
   "metadata": {},
   "outputs": [
    {
     "name": "stdout",
     "output_type": "stream",
     "text": [
      "(5000, 401)\n",
      "(5000,)\n"
     ]
    }
   ],
   "source": [
    "X = np.insert(raw_X, 0, values=1, axis=1)#在X中插入一列1\n",
    "# (5000, 401)\n",
    "print(X.shape)\n",
    "y = raw_Y.flatten()#对y进行降维\n",
    "# (5000,)\n",
    "print(y.shape)"
   ]
  },
  {
   "cell_type": "code",
   "execution_count": 5,
   "id": "34a8345c",
   "metadata": {},
   "outputs": [
    {
     "name": "stdout",
     "output_type": "stream",
     "text": [
      "[[-3.07873081e+00  0.00000000e+00  0.00000000e+00 ...  6.82393343e-03\n",
      "   2.67580726e-11  0.00000000e+00]\n",
      " [-3.72948858e+00  0.00000000e+00  0.00000000e+00 ...  2.32478221e-02\n",
      "  -2.55003799e-03  0.00000000e+00]\n",
      " [-5.71290652e+00  0.00000000e+00  0.00000000e+00 ... -6.29010779e-05\n",
      "  -3.61572765e-07  0.00000000e+00]\n",
      " ...\n",
      " [-9.12690376e+00  0.00000000e+00  0.00000000e+00 ... -6.15426688e-04\n",
      "   6.94440176e-05  0.00000000e+00]\n",
      " [-5.62470100e+00  0.00000000e+00  0.00000000e+00 ... -1.12741229e-02\n",
      "   8.58707069e-04  0.00000000e+00]\n",
      " [-8.06526810e+00  0.00000000e+00  0.00000000e+00 ... -3.49598102e-05\n",
      "   9.70425814e-07  0.00000000e+00]]\n"
     ]
    }
   ],
   "source": [
    "# 利用内置函数求最优化\n",
    "from scipy.optimize import minimize\n",
    " \n",
    "# K为标签个数\n",
    "def one_vs_all(X, y, lamda, K):\n",
    "    n = X.shape[1]#X的列数401\n",
    "    theta_all = np.zeros((K, n))#（10，401），sita使用0进行随机初始化，这里也可以标准正态分布进行\n",
    "   #第0列到第9列分别对应类别1到10\n",
    "    for i in range(1, K + 1):#遍历到k 1-k 对应1-10\n",
    "        \n",
    "        theta_i = np.zeros(n, )#传入minimize的必须是一维（401，）\n",
    " \n",
    "        res = minimize(fun=Cost_Function,\n",
    "                       x0=theta_i,\n",
    "                       args=(X, y == i, lamda),\n",
    "                       method='TNC',\n",
    "                       jac=gradient_reg\n",
    "                       )\n",
    "        theta_all[i - 1, :] = res.x #将字典中x（theta）的值赋给theta\n",
    "        #[i-1,:]与索引对应（0，9）\n",
    "    return theta_all\n",
    " \n",
    " \n",
    "lamda = 0.1#这是一个超参数，需要我们自己调试，在这个例子中lamda=0.1要比01的结果更好\n",
    "K = 10\n",
    "theta_final = one_vs_all(X, y, lamda, K)\n",
    "print(theta_final)"
   ]
  },
  {
   "cell_type": "code",
   "execution_count": 6,
   "id": "65609bd5",
   "metadata": {},
   "outputs": [
    {
     "name": "stdout",
     "output_type": "stream",
     "text": [
      "0.9646\n"
     ]
    }
   ],
   "source": [
    "def predict(X, theta_final):\n",
    "    # (5000,401) (10,401) => (5000,10)\n",
    "    h = sigmoid(X @ theta_final.T)#假设函数，输出h为1的概率\n",
    "    h_argmax = np.argmax(h, axis=1)#按行返回概率最大的数字索引\n",
    "    return h_argmax+1 #索引+1对应数字\n",
    " \n",
    " \n",
    "y_pred = predict(X, theta_final)\n",
    "acc = np.mean(y_pred == y)\n",
    "# 0.9446，这里是精确度已经很高了，继续运行几次可以发现精确度的变化不大，所以比较稳定。\n",
    "print(acc)"
   ]
  },
  {
   "cell_type": "code",
   "execution_count": null,
   "id": "563b3dac",
   "metadata": {},
   "outputs": [],
   "source": []
  }
 ],
 "metadata": {
  "kernelspec": {
   "display_name": "Python 3 (ipykernel)",
   "language": "python",
   "name": "python3"
  },
  "language_info": {
   "codemirror_mode": {
    "name": "ipython",
    "version": 3
   },
   "file_extension": ".py",
   "mimetype": "text/x-python",
   "name": "python",
   "nbconvert_exporter": "python",
   "pygments_lexer": "ipython3",
   "version": "3.9.12"
  }
 },
 "nbformat": 4,
 "nbformat_minor": 5
}
