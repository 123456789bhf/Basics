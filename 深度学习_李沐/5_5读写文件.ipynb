{
 "cells": [
  {
   "cell_type": "markdown",
   "id": "3e089410",
   "metadata": {
    "origin_pos": 0
   },
   "source": [
    "# 5.5读写文件\n",
    "\n",
    "到目前为止，我们讨论了如何处理数据，\n",
    "以及如何构建、训练和测试深度学习模型。\n",
    "然而，有时我们希望保存训练的模型，\n",
    "以备将来在各种环境中使用（比如在部署中进行预测）。\n",
    "此外，当运行一个耗时较长的训练过程时，\n",
    "最佳的做法是定期保存中间结果，\n",
    "以确保在服务器电源被不小心断掉时，我们不会损失几天的计算结果。\n",
    "因此，现在是时候学习如何加载和存储权重向量和整个模型了。\n",
    "\n",
    "## 5.5.1.**加载和保存张量**)\n",
    "\n",
    "对于单个张量，我们可以直接调用`load`和`save`函数分别读写它们。\n",
    "这两个函数都要求我们提供一个名称，`save`要求将要保存的变量作为输入。\n"
   ]
  },
  {
   "cell_type": "code",
   "execution_count": 2,
   "id": "37d8dbd1",
   "metadata": {
    "execution": {
     "iopub.execute_input": "2022-07-31T02:32:55.803857Z",
     "iopub.status.busy": "2022-07-31T02:32:55.803417Z",
     "iopub.status.idle": "2022-07-31T02:32:56.504212Z",
     "shell.execute_reply": "2022-07-31T02:32:56.503478Z"
    },
    "origin_pos": 2,
    "tab": [
     "pytorch"
    ]
   },
   "outputs": [],
   "source": [
    "import torch\n",
    "from torch import nn\n",
    "import torch.nn.functional as F\n",
    "\n",
    "x = torch.arange(4)\n",
    "#jupyter文件的默认储存位置\n",
    "torch.save(x, 'x-file')\n",
    "#也可以更改存储数据的位置（按照绝对路径进行存储）\n",
    "torch.save(x,'D:/BaiduNetdiskDownload/x-filess')"
   ]
  },
  {
   "cell_type": "markdown",
   "id": "21398c0a",
   "metadata": {},
   "source": [
    "torch.save介绍\n",
    "https://pytorch.org/docs/stable/generated/torch.save.html?highlight=torch+save#torch.save\n",
    "torch.save(obj,f,pickle_module=pickle,pickle_protocol=DEFAULT_PROTOCOL,_use_new_zipfile_serialization=True)\n",
    "\n",
    "    obj：需要保存的对象，可以是整个模型或者是模型参数\n",
    "    f：保存模型的路径,默认是jupyter中配置文件的地址在cmd中输入jupyter notebook --generate-config查找默认存储地址\n",
    "    也可以是保存文件的绝对路径+保存文件名，如’/home/qinying/Desktop/modelpara.pth’\n",
    "    pickle_module：用于清除元数据和对象的模块\n",
    "    pickle_protocol：可以指定覆盖默认协议\n",
    "    \n",
    " torch.load(f,map_location=None,pickle_module=pickle,**pickle_load_args)\n",
    " \n",
    "    f：导入模型文件\n",
    "    map_location：指定如何重新映射存储位置的字符串或字典\n",
    "    pickle_module：用于清除元数据和对象的模块\n",
    "    pickle_load_args_：选择指定的参数传入\n",
    " \n",
    "————————————————\n",
    "版权声明：本文为CSDN博主「鬼道2022」的原创文章，遵循CC 4.0 BY-SA版权协议，转载请附上原文出处链接及本声明。\n",
    "原文链接：https://blog.csdn.net/qq_38406029/article/details/121006163\n"
   ]
  },
  {
   "cell_type": "code",
   "execution_count": null,
   "id": "8aee20c8",
   "metadata": {},
   "outputs": [],
   "source": []
  },
  {
   "cell_type": "markdown",
   "id": "baf2885d",
   "metadata": {
    "origin_pos": 4
   },
   "source": [
    "我们现在可以将存储在文件中的数据读回内存。\n"
   ]
  },
  {
   "cell_type": "code",
   "execution_count": 6,
   "id": "b80fe2ae",
   "metadata": {
    "execution": {
     "iopub.execute_input": "2022-07-31T02:32:56.507830Z",
     "iopub.status.busy": "2022-07-31T02:32:56.507438Z",
     "iopub.status.idle": "2022-07-31T02:32:56.518747Z",
     "shell.execute_reply": "2022-07-31T02:32:56.518155Z"
    },
    "origin_pos": 6,
    "tab": [
     "pytorch"
    ]
   },
   "outputs": [
    {
     "data": {
      "text/plain": [
       "tensor([0, 1, 2, 3])"
      ]
     },
     "execution_count": 6,
     "metadata": {},
     "output_type": "execute_result"
    }
   ],
   "source": [
    "x2 = torch.load('x-file')\n",
    "x2"
   ]
  },
  {
   "cell_type": "markdown",
   "id": "f68d2fa6",
   "metadata": {
    "origin_pos": 8
   },
   "source": [
    "我们可以[**存储一个张量列表，然后把它们读回内存。**]\n"
   ]
  },
  {
   "cell_type": "markdown",
   "id": "16f62891",
   "metadata": {},
   "source": [
    "#### 列表的简单介绍\n",
    "\n",
    "https://www.runoob.com/python/python-lists.html\n",
    "\n",
    "列表是最常用的Python数据类型，它可以作为一个方括号内的逗号分隔值出现。\n",
    "\n",
    "列表的数据项不需要具有相同的类型\n",
    "\n",
    "创建一个列表，只要把逗号分隔的不同的数据项使用方括号括起来即可。如下所示："
   ]
  },
  {
   "cell_type": "code",
   "execution_count": 8,
   "id": "719f76c4",
   "metadata": {},
   "outputs": [
    {
     "name": "stdout",
     "output_type": "stream",
     "text": [
      "physics\n",
      "[2, 3, 4, 5]\n",
      "['Google', 'Runoob']\n",
      "['physics', 'chemistry', 1997, 2000]\n",
      "After deleting value at index 2 : \n",
      "['physics', 'chemistry', 2000]\n"
     ]
    }
   ],
   "source": [
    "#1,创建列表\n",
    "list1 = ['physics', 'chemistry', 1997, 2000]\n",
    "list2 = [1, 2, 3, 4, 5,6]\n",
    "list3 = [\"a\", \"b\", \"c\", \"d\"]\n",
    "#与字符串的索引一样，列表索引从0开始。列表可以进行截取、组合等。\n",
    "#访问列表中，访问方式与张量类似\n",
    "print(list1[0])# list1[0]的值\n",
    "print(list2[1:5])# list2[1:5]，左闭右开的\n",
    "#2，更新列表\n",
    "list = []          ## 空列表\n",
    "list.append('Google')   ## 使用 append() 添加元素\n",
    "list.append('Runoob')\n",
    "print(list)\n",
    "#3,删除列表\n",
    "list1 = ['physics', 'chemistry', 1997, 2000]\n",
    "print(list1)\n",
    "del list1[2]\n",
    "print(\"After deleting value at index 2 : \")\n",
    "print(list1)"
   ]
  },
  {
   "cell_type": "code",
   "execution_count": 16,
   "id": "e7b0261e",
   "metadata": {
    "execution": {
     "iopub.execute_input": "2022-07-31T02:32:56.521551Z",
     "iopub.status.busy": "2022-07-31T02:32:56.521348Z",
     "iopub.status.idle": "2022-07-31T02:32:56.528208Z",
     "shell.execute_reply": "2022-07-31T02:32:56.527619Z"
    },
    "origin_pos": 10,
    "tab": [
     "pytorch"
    ]
   },
   "outputs": [
    {
     "data": {
      "text/plain": [
       "(tensor([0, 1, 2, 3]),\n",
       " tensor([0., 0., 0., 0.]),\n",
       " [tensor([0, 1, 2, 3]), tensor([0., 0., 0., 0.])],\n",
       " list)"
      ]
     },
     "execution_count": 16,
     "metadata": {},
     "output_type": "execute_result"
    }
   ],
   "source": [
    "y = torch.zeros(4)#长度维4的张量\n",
    "torch.save([x, y],'x-files')#因为列表中的数据类型可以是任意的,为什么文件中的是乱码，一直解决不了\n",
    "x2, y2 = torch.load('x-files')\n",
    "x2, y2,[x,y],type([x,y])\n",
    "#[x,y]是个列表，列表中的元素是两个张量"
   ]
  },
  {
   "cell_type": "markdown",
   "id": "4227d24b",
   "metadata": {
    "origin_pos": 12
   },
   "source": [
    "我们甚至可以(**写入或读取从字符串映射到张量的字典**)。\n",
    "当我们要读取或写入模型中的所有权重时，这很方便。\n"
   ]
  },
  {
   "cell_type": "code",
   "execution_count": 17,
   "id": "9d62889d",
   "metadata": {
    "execution": {
     "iopub.execute_input": "2022-07-31T02:32:56.530996Z",
     "iopub.status.busy": "2022-07-31T02:32:56.530638Z",
     "iopub.status.idle": "2022-07-31T02:32:56.536985Z",
     "shell.execute_reply": "2022-07-31T02:32:56.536389Z"
    },
    "origin_pos": 14,
    "tab": [
     "pytorch"
    ]
   },
   "outputs": [
    {
     "data": {
      "text/plain": [
       "{'x': tensor([0, 1, 2, 3]), 'y': tensor([0., 0., 0., 0.])}"
      ]
     },
     "execution_count": 17,
     "metadata": {},
     "output_type": "execute_result"
    }
   ],
   "source": [
    "mydict = {'x': x, 'y': y}\n",
    "torch.save(mydict, 'mydict')\n",
    "mydict2 = torch.load('mydict')\n",
    "mydict2"
   ]
  },
  {
   "cell_type": "markdown",
   "id": "9b254c7b",
   "metadata": {
    "origin_pos": 16
   },
   "source": [
    "## 5.5.2.**加载和保存模型参数**\n",
    "\n",
    "保存单个权重向量（或其他张量）确实有用，\n",
    "**但是如果我们想保存整个模型，并在以后加载它们，\n",
    "单独保存每个向量则会变得很麻烦。\n",
    "毕竟，我们可能有数百个参数散布在各处**。\n",
    "因此，深度学习框架提供了内置函数来保存和加载整个网络。\n",
    "需要注意的一个重要细节是，这将**保存模型的参数而不是保存整个模型**。\n",
    "例如，如果我们有一个3层多层感知机，我们需要单独指定架构。\n",
    "因为模型本身可以包含任意代码，所以模型本身难以序列化。\n",
    "因此，**为了恢复模型，我们需要用代码生成架构，\n",
    "然后从磁盘加载参数**。但是也可以保存模型本身\n",
    "让我们从熟悉的多层感知机开始尝试一下。\n",
    "## 序列化的简单介绍 \n",
    "为什么要序列化？\n",
    "如果光看定义我想你很难一下子理解序列化的意义，那么我们可以从另一个角度来推导出什么是序列化, 那么究竟序列化的目的是什么？\n",
    "\n",
    "其实序列化最终的目的是为了对象可以跨平台存储，和进行网络传输。而我们进行跨平台存储和网络传输的方式就是IO，而我们的IO支持的数据格式就是字节数组。\n",
    "\n",
    "因为我们单方面的只把对象转成字节数组还不行，因为没有规则的字节数组我们是没办法把对象的本来面目还原回来的，所以我们必须在把对象转成字节数组的时候就制定一种规则（序列化），那么我们从IO流里面读出数据的时候再以这种规则把对象还原回来（反序列化）。\n",
    "\n",
    "如果我们要把一栋房子从一个地方运输到另一个地方去，序列化就是我把房子拆成一个个的砖块放到车子里，然后留下一张房子原来结构的图纸，反序列化就是我们把房子运输到了目的地以后，根据图纸把一块块砖头还原成房子原来面目的过程\n",
    "\n",
    "参考链接：https://zhuanlan.zhihu.com/p/40462507\n"
   ]
  },
  {
   "cell_type": "code",
   "execution_count": 19,
   "id": "44bdd6df",
   "metadata": {
    "execution": {
     "iopub.execute_input": "2022-07-31T02:32:56.539741Z",
     "iopub.status.busy": "2022-07-31T02:32:56.539403Z",
     "iopub.status.idle": "2022-07-31T02:32:56.545387Z",
     "shell.execute_reply": "2022-07-31T02:32:56.544765Z"
    },
    "origin_pos": 18,
    "tab": [
     "pytorch"
    ]
   },
   "outputs": [],
   "source": [
    "class MLP(nn.Module):\n",
    "    def __init__(self):\n",
    "        super().__init__()\n",
    "        self.hidden = nn.Linear(20, 256)#隐藏层\n",
    "        self.output = nn.Linear(256, 10)#输出层\n",
    "\n",
    "    def forward(self, x):\n",
    "        return self.output(F.relu(self.hidden(x)))\n",
    "\n",
    "net = MLP()#创建对象\n",
    "X = torch.randn(size=(2, 20))\n",
    "Y = net(X)#s实例化\n",
    "#print(Y)"
   ]
  },
  {
   "cell_type": "markdown",
   "id": "416bb902",
   "metadata": {
    "origin_pos": 20
   },
   "source": [
    "接下来，我们[**将模型的参数存储在一个叫做“mlp.params”的文件中。**]\n",
    "\n",
    "#### load_state_dict介绍\n",
    "#### 如果需要储存加载模型参数，需要state_dict提取包含整个模型参数的字典，然后torch.save()保存该字典, 用load_state_dict加载状态字典\n",
    "\n",
    "官网介绍：https://pytorch.org/docs/stable/generated/torch.nn.Module.html?highlight=load_state_dic#torch.nn.Module.load_state_dict\n",
    "\n",
    "https://zhuanlan.zhihu.com/p/82038049#:~:text=load_state_dict%20%28%29%20\n",
    "\n",
    "**状态字典**：PyTorch 中，一个模型(torch.nn.Module)的可学习参数(也就是权重和偏置值)是包含在模型参数(model.parameters())中的，一个状态字典就是一个简单的 Python 的字典，其键值对是每个网络层和其对应的参数张量。模型的状态字典只包含带有可学习参数的网络层（比如卷积层、全连接层等）和注册的缓存（batchnorm的 running_mean）。优化器对象(torch.optim)同样也是有一个状态字典，包含的优化器状态的信息以及使用的超参数。\n",
    "\n",
    "pickle介绍：\n",
    "\n",
    "http://c.biancheng.net/view/5736.html\n",
    "\n",
    "state_dict()是一个状态字典，是一个函数，返回一个包含整个模型的参数的字典。https://pytorch.org/docs/stable/_modules/torch/nn/modules/module.html#Module.state_dict\n",
    "\n",
    "load_state_dict()就是加载状态字典（加载模型参数）\n",
    "\n",
    "**注意**\n",
    "\n",
    "load_state_dict() 方法必须传入一个字典对象，而不是对象的保存路径，也就是说必须先反序列化字典对象，然后再调用该方法，也是例子中先采用 torch.load() ，而不是直接 model.load_state_dict(PATH)\n",
    "\n",
    "### clone.eval()介绍\n",
    "一般情况下，我们训练过程如下：\n",
    "\n",
    "1、拿到数据后进行训练，在训练过程中，使用\n",
    "\n",
    "model.train(）：告诉我们的网络，这个阶段是用来训练的，可以更新参数。\n",
    "\n",
    "2、训练完成后进行预测，在预测过程中，使用\n",
    "\n",
    "model.eval() ： 模型中有BatchNormalization和Dropout，在预测时使用model.eval()后会将其关闭以免影响预测结果。因为Dropout只用于训练集，而不用于测试集。也就是说告诉我们的网络，这个阶段是用来测试的。\n",
    "\n",
    "BatchNormalization的介绍：https://blog.csdn.net/hjimce/article/details/50866313"
   ]
  },
  {
   "cell_type": "code",
   "execution_count": 20,
   "id": "0c11c100",
   "metadata": {
    "execution": {
     "iopub.execute_input": "2022-07-31T02:32:56.549285Z",
     "iopub.status.busy": "2022-07-31T02:32:56.548944Z",
     "iopub.status.idle": "2022-07-31T02:32:56.553472Z",
     "shell.execute_reply": "2022-07-31T02:32:56.552867Z"
    },
    "origin_pos": 22,
    "tab": [
     "pytorch"
    ]
   },
   "outputs": [
    {
     "name": "stdout",
     "output_type": "stream",
     "text": [
      "OrderedDict([('hidden.weight', tensor([[ 0.1866, -0.0135,  0.2142,  ...,  0.1292,  0.0491, -0.2192],\n",
      "        [-0.1308, -0.2162, -0.0658,  ..., -0.0699,  0.1739, -0.1145],\n",
      "        [ 0.1701, -0.0260,  0.0592,  ..., -0.1591,  0.0612,  0.1662],\n",
      "        ...,\n",
      "        [-0.1003, -0.1171, -0.0762,  ..., -0.0857, -0.1743, -0.1784],\n",
      "        [ 0.0517, -0.2159,  0.0161,  ...,  0.2083,  0.2080, -0.1831],\n",
      "        [-0.0070,  0.1586,  0.1661,  ..., -0.1415,  0.1816,  0.0863]])), ('hidden.bias', tensor([ 0.1392,  0.1259, -0.0683, -0.0182,  0.0339, -0.2214, -0.2007, -0.0016,\n",
      "         0.1681, -0.0398, -0.0566, -0.0519,  0.0840, -0.0537,  0.0404,  0.0542,\n",
      "         0.2163, -0.1604,  0.1298, -0.0571, -0.1252,  0.2039,  0.0754, -0.0363,\n",
      "         0.0310,  0.1428, -0.1023,  0.0097, -0.0723, -0.0503, -0.1342, -0.0967,\n",
      "         0.1474, -0.0920, -0.0256, -0.2226, -0.0263, -0.0098, -0.1264, -0.2233,\n",
      "        -0.0319,  0.0260,  0.0647,  0.2221,  0.0292, -0.1121,  0.1502,  0.1226,\n",
      "        -0.1003, -0.1387, -0.0841, -0.0490, -0.0124, -0.2089,  0.2121,  0.0543,\n",
      "         0.1680,  0.0991,  0.1691, -0.1358, -0.1233, -0.0273,  0.0906, -0.1733,\n",
      "        -0.1201,  0.1832, -0.0487, -0.0707, -0.1572, -0.0094,  0.1963, -0.1808,\n",
      "         0.0046,  0.2053, -0.1179, -0.1217, -0.1735,  0.0805,  0.1479,  0.0612,\n",
      "        -0.0060,  0.0824, -0.1167, -0.1173, -0.2150,  0.0067, -0.1757,  0.1312,\n",
      "        -0.0419, -0.0196, -0.1209,  0.0240, -0.0378,  0.1403, -0.0513,  0.1483,\n",
      "        -0.0045, -0.1503, -0.1208,  0.1847, -0.0161,  0.1528, -0.1311, -0.0143,\n",
      "         0.1552,  0.0664,  0.1571, -0.1037, -0.1334,  0.0475,  0.1507,  0.1690,\n",
      "        -0.0894, -0.0946,  0.0724,  0.2033,  0.0680,  0.1867,  0.0956,  0.1977,\n",
      "         0.1133, -0.1260, -0.0209,  0.0389,  0.1547,  0.0274,  0.1732, -0.1213,\n",
      "        -0.1866, -0.0179, -0.0645, -0.1606, -0.0812, -0.0655, -0.1697,  0.1308,\n",
      "        -0.0263,  0.1190,  0.1239, -0.2149,  0.1040, -0.0954,  0.1139, -0.0595,\n",
      "         0.1709, -0.0043,  0.1697,  0.2117,  0.1760,  0.1280, -0.0033, -0.0180,\n",
      "         0.0325,  0.0177,  0.1209, -0.0515,  0.0783, -0.1937, -0.0424,  0.1828,\n",
      "        -0.0385, -0.0142,  0.0151, -0.0428, -0.1623, -0.1753,  0.0847,  0.1782,\n",
      "        -0.1388, -0.2084, -0.0595, -0.0739,  0.0849, -0.0643, -0.1638, -0.0205,\n",
      "        -0.1024,  0.0737, -0.1598, -0.1180,  0.0700,  0.0281,  0.0841, -0.1673,\n",
      "        -0.1943,  0.1256, -0.1554, -0.1260, -0.0352,  0.0124, -0.0338, -0.0568,\n",
      "        -0.1974,  0.0917,  0.1236, -0.1800, -0.0405,  0.0211,  0.0358,  0.1691,\n",
      "         0.0185, -0.0881,  0.1707,  0.0038, -0.1313,  0.2163, -0.1525, -0.0668,\n",
      "        -0.0621, -0.1965, -0.0541, -0.1096, -0.0115,  0.1402, -0.0079, -0.0868,\n",
      "         0.0462,  0.0021, -0.1204,  0.2137,  0.1503,  0.1623, -0.0605, -0.1646,\n",
      "         0.0962, -0.1200,  0.1686, -0.0400,  0.0799, -0.2005, -0.1392,  0.0393,\n",
      "         0.0990,  0.1927, -0.1006,  0.2071, -0.1572,  0.1411,  0.0779, -0.1695,\n",
      "         0.1983, -0.0721,  0.0999, -0.0459, -0.1495, -0.1265, -0.1146,  0.2056,\n",
      "        -0.1629, -0.0745, -0.1932,  0.2165, -0.1001, -0.0804, -0.2153,  0.1020])), ('output.weight', tensor([[ 0.0416, -0.0584, -0.0213,  ...,  0.0422, -0.0418, -0.0268],\n",
      "        [ 0.0579,  0.0487, -0.0358,  ..., -0.0586,  0.0269,  0.0035],\n",
      "        [-0.0405, -0.0129,  0.0375,  ..., -0.0441,  0.0052, -0.0298],\n",
      "        ...,\n",
      "        [ 0.0584,  0.0460,  0.0307,  ...,  0.0280,  0.0326, -0.0590],\n",
      "        [-0.0163,  0.0484,  0.0508,  ...,  0.0524, -0.0030, -0.0485],\n",
      "        [-0.0409,  0.0319, -0.0440,  ...,  0.0119, -0.0268, -0.0158]])), ('output.bias', tensor([-0.0137, -0.0563,  0.0304,  0.0552,  0.0053,  0.0590, -0.0413, -0.0368,\n",
      "        -0.0515, -0.0424]))])\n"
     ]
    }
   ],
   "source": [
    "torch.save(net.state_dict(), 'mlp.params')\n",
    "print(net.state_dict())#是有序字典（按照字典中元素输入的顺序输出，前面已经介绍），包括了两层的权重和偏执"
   ]
  },
  {
   "cell_type": "markdown",
   "id": "7bef8dab",
   "metadata": {
    "origin_pos": 24
   },
   "source": [
    "为了恢复模型，我们[**实例化了原始多层感知机模型的一个备份。**]\n",
    "这里我们不需要随机初始化模型参数，而是(**直接读取文件中存储的参数。**)\n"
   ]
  },
  {
   "cell_type": "code",
   "execution_count": 23,
   "id": "3b5367f0",
   "metadata": {
    "execution": {
     "iopub.execute_input": "2022-07-31T02:32:56.556338Z",
     "iopub.status.busy": "2022-07-31T02:32:56.556009Z",
     "iopub.status.idle": "2022-07-31T02:32:56.562475Z",
     "shell.execute_reply": "2022-07-31T02:32:56.561831Z"
    },
    "origin_pos": 26,
    "tab": [
     "pytorch"
    ]
   },
   "outputs": [
    {
     "data": {
      "text/plain": [
       "MLP(\n",
       "  (hidden): Linear(in_features=20, out_features=256, bias=True)\n",
       "  (output): Linear(in_features=256, out_features=10, bias=True)\n",
       ")"
      ]
     },
     "execution_count": 23,
     "metadata": {},
     "output_type": "execute_result"
    }
   ],
   "source": [
    "clone = MLP()#创建了多个对象\n",
    "clone.load_state_dict(torch.load('mlp.params'))#将前面储存的字典加载出来，并且作为clone中的输入\n",
    "clone.eval()#从train模式调整为test模式，不再进行训练更改梯度，因为这里并没有训练梯度所以可以不加该说明"
   ]
  },
  {
   "cell_type": "markdown",
   "id": "c2965c95",
   "metadata": {
    "origin_pos": 28
   },
   "source": [
    "由于两个实例具有相同的模型参数，在输入相同的`X`时，\n",
    "两个实例的计算结果应该相同。\n",
    "让我们来验证一下。\n"
   ]
  },
  {
   "cell_type": "code",
   "execution_count": 22,
   "id": "bfd32641",
   "metadata": {
    "execution": {
     "iopub.execute_input": "2022-07-31T02:32:56.565379Z",
     "iopub.status.busy": "2022-07-31T02:32:56.565041Z",
     "iopub.status.idle": "2022-07-31T02:32:56.570481Z",
     "shell.execute_reply": "2022-07-31T02:32:56.569880Z"
    },
    "origin_pos": 30,
    "tab": [
     "pytorch"
    ]
   },
   "outputs": [
    {
     "data": {
      "text/plain": [
       "tensor([[True, True, True, True, True, True, True, True, True, True],\n",
       "        [True, True, True, True, True, True, True, True, True, True]])"
      ]
     },
     "execution_count": 22,
     "metadata": {},
     "output_type": "execute_result"
    }
   ],
   "source": [
    "Y_clone = clone(X)\n",
    "Y_clone == Y#Y=net（X)"
   ]
  },
  {
   "cell_type": "markdown",
   "id": "2092c4f8",
   "metadata": {
    "origin_pos": 32
   },
   "source": [
    "## 小结\n",
    "\n",
    "* `save`和`load`函数可用于张量对象的文件读写。\n",
    "* 我们可以通过参数字典保存和加载网络的全部参数。\n",
    "* 保存架构必须在代码中完成，而不是在参数中完成。\n",
    "\n",
    "## 练习\n",
    "\n",
    "1. 即使不需要将经过训练的模型部署到不同的设备上，存储模型参数还有什么实际的好处？\n",
    "1. 假设我们只想复用网络的一部分，以将其合并到不同的网络架构中。比如说，如果你想在一个新的网络中使用之前网络的前两层，你该怎么做？\n",
    "1. 如何同时保存网络架构和参数？你会对架构加上什么限制？\n"
   ]
  },
  {
   "cell_type": "markdown",
   "id": "cc2f5d85",
   "metadata": {
    "origin_pos": 34,
    "tab": [
     "pytorch"
    ]
   },
   "source": [
    "[Discussions](https://discuss.d2l.ai/t/1839)\n"
   ]
  }
 ],
 "metadata": {
  "kernelspec": {
   "display_name": "Python 3 (ipykernel)",
   "language": "python",
   "name": "python3"
  },
  "language_info": {
   "codemirror_mode": {
    "name": "ipython",
    "version": 3
   },
   "file_extension": ".py",
   "mimetype": "text/x-python",
   "name": "python",
   "nbconvert_exporter": "python",
   "pygments_lexer": "ipython3",
   "version": "3.9.12"
  }
 },
 "nbformat": 4,
 "nbformat_minor": 5
}
