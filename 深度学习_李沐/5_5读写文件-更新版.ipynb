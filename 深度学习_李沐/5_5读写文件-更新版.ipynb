{
 "cells": [
  {
   "cell_type": "markdown",
   "id": "3e089410",
   "metadata": {
    "origin_pos": 0
   },
   "source": [
    "# 5.5读写文件\n",
    "\n",
    "到目前为止，我们讨论了如何处理数据，\n",
    "以及如何构建、训练和测试深度学习模型。\n",
    "然而，有时我们希望保存训练的模型，\n",
    "以备将来在各种环境中使用（比如在部署中进行预测）。\n",
    "此外，当运行一个耗时较长的训练过程时，\n",
    "最佳的做法是定期保存中间结果，\n",
    "以确保在服务器电源被不小心断掉时，我们不会损失几天的计算结果。\n",
    "因此，现在是时候学习如何加载和存储权重向量和整个模型了。\n",
    "\n",
    "## 5.5.1.**加载和保存张量**)\n",
    "\n",
    "对于单个张量，我们可以直接调用`load`和`save`函数分别读写它们。\n",
    "这两个函数都要求我们提供一个名称，`save`要求将要保存的变量作为输入。\n"
   ]
  },
  {
   "cell_type": "code",
   "execution_count": 11,
   "id": "37d8dbd1",
   "metadata": {
    "execution": {
     "iopub.execute_input": "2022-07-31T02:32:55.803857Z",
     "iopub.status.busy": "2022-07-31T02:32:55.803417Z",
     "iopub.status.idle": "2022-07-31T02:32:56.504212Z",
     "shell.execute_reply": "2022-07-31T02:32:56.503478Z"
    },
    "origin_pos": 2,
    "tab": [
     "pytorch"
    ]
   },
   "outputs": [],
   "source": [
    "import torch\n",
    "from torch import nn\n",
    "import torch.nn.functional as F\n",
    "\n",
    "x = torch.arange(4)\n",
    "#jupyter文件的默认储存位置\n",
    "torch.save(x, 'x-file')\n",
    "#也可以更改存储数据的位置（按照绝对路径进行存储）\n",
    "torch.save(x,'D:/BaiduNetdiskDownload/x-filess')"
   ]
  },
  {
   "cell_type": "markdown",
   "id": "21398c0a",
   "metadata": {},
   "source": [
    "torch.save介绍\n",
    "https://pytorch.org/docs/stable/generated/torch.save.html?highlight=torch+save#torch.save"
   ]
  },
  {
   "cell_type": "code",
   "execution_count": null,
   "id": "8aee20c8",
   "metadata": {},
   "outputs": [],
   "source": []
  },
  {
   "cell_type": "markdown",
   "id": "baf2885d",
   "metadata": {
    "origin_pos": 4
   },
   "source": [
    "我们现在可以将存储在文件中的数据读回内存。\n"
   ]
  },
  {
   "cell_type": "code",
   "execution_count": 1,
   "id": "b80fe2ae",
   "metadata": {
    "execution": {
     "iopub.execute_input": "2022-07-31T02:32:56.507830Z",
     "iopub.status.busy": "2022-07-31T02:32:56.507438Z",
     "iopub.status.idle": "2022-07-31T02:32:56.518747Z",
     "shell.execute_reply": "2022-07-31T02:32:56.518155Z"
    },
    "origin_pos": 6,
    "tab": [
     "pytorch"
    ]
   },
   "outputs": [
    {
     "ename": "NameError",
     "evalue": "name 'torch' is not defined",
     "output_type": "error",
     "traceback": [
      "\u001b[1;31m---------------------------------------------------------------------------\u001b[0m",
      "\u001b[1;31mNameError\u001b[0m                                 Traceback (most recent call last)",
      "Input \u001b[1;32mIn [1]\u001b[0m, in \u001b[0;36m<cell line: 1>\u001b[1;34m()\u001b[0m\n\u001b[1;32m----> 1\u001b[0m x2 \u001b[38;5;241m=\u001b[39m \u001b[43mtorch\u001b[49m\u001b[38;5;241m.\u001b[39mload(\u001b[38;5;124m'\u001b[39m\u001b[38;5;124mx-file\u001b[39m\u001b[38;5;124m'\u001b[39m)\n\u001b[0;32m      2\u001b[0m \u001b[38;5;28mprint\u001b[39m(x2)\n",
      "\u001b[1;31mNameError\u001b[0m: name 'torch' is not defined"
     ]
    }
   ],
   "source": [
    "x2 = torch.load('x-file')\n",
    "print(x2)"
   ]
  },
  {
   "cell_type": "markdown",
   "id": "f68d2fa6",
   "metadata": {
    "origin_pos": 8
   },
   "source": [
    "我们可以[**存储一个张量列表，然后把它们读回内存。**]\n"
   ]
  },
  {
   "cell_type": "markdown",
   "id": "16f62891",
   "metadata": {},
   "source": [
    "#### 列表的简单介绍\n",
    "\n",
    "https://www.runoob.com/python/python-lists.html\n",
    "\n",
    "列表是最常用的Python数据类型\n",
    "\n",
    "列表的数据项不需要具有相同的类型\n",
    "\n",
    "创建一个列表，只要把逗号分隔的不同的数据项使用方括号括起来即可。如下所示："
   ]
  },
  {
   "cell_type": "code",
   "execution_count": 4,
   "id": "719f76c4",
   "metadata": {},
   "outputs": [
    {
     "name": "stdout",
     "output_type": "stream",
     "text": [
      "physics\n",
      "[2, 3, 4, 5]\n",
      "['Google', 'Runoob']\n",
      "['physics', 'chemistry', 1997, 2000]\n",
      "After deleting value at index 2 : \n",
      "['physics', 'chemistry', 2000]\n"
     ]
    }
   ],
   "source": [
    "#1,创建列表\n",
    "list1 = ['physics', 'chemistry', 1997, 2000]\n",
    "list2 = [1, 2, 3, 4, 5,6]\n",
    "list3 = [\"a\", \"b\", \"c\", \"d\"]\n",
    "#2，访问列表\n",
    "#与张量的访问方式一样，列表索引从0开始。列表可以进行截取、组合\n",
    "print(list1[0])# list1[0]的值\n",
    "print(list2[1:5])# list2[1:5]，左闭右开的，访问索引值为1，2，3，4的元素，也就是第2，3，4，5个\n",
    "#3，更新列表\n",
    "list = []          ## 空列表\n",
    "list.append('Google')   ## 使用 .append() 添加元素\n",
    "list.append('Runoob')\n",
    "print(list)\n",
    "#4,删除列表\n",
    "list1 = ['physics', 'chemistry', 1997, 2000]\n",
    "print(list1)\n",
    "del list1[2]#删除列表中指定的元素\n",
    "print(\"After deleting value at index 2 : \")\n",
    "print(list1)"
   ]
  },
  {
   "cell_type": "code",
   "execution_count": 13,
   "id": "e7b0261e",
   "metadata": {
    "execution": {
     "iopub.execute_input": "2022-07-31T02:32:56.521551Z",
     "iopub.status.busy": "2022-07-31T02:32:56.521348Z",
     "iopub.status.idle": "2022-07-31T02:32:56.528208Z",
     "shell.execute_reply": "2022-07-31T02:32:56.527619Z"
    },
    "origin_pos": 10,
    "tab": [
     "pytorch"
    ]
   },
   "outputs": [
    {
     "data": {
      "text/plain": [
       "(tensor([0, 1, 2, 3]), tensor([0., 0., 0., 0.]))"
      ]
     },
     "execution_count": 13,
     "metadata": {},
     "output_type": "execute_result"
    }
   ],
   "source": [
    "y = torch.zeros(4)#长度维4的一维张量\n",
    "torch.save([x, y],'x-files')#[x,y]列表中的两个元素分别是张量x、张量y\n",
    "x2, y2 = torch.load('x-files')#从文件中读取数据\n",
    "x2, y2"
   ]
  },
  {
   "cell_type": "markdown",
   "id": "4227d24b",
   "metadata": {
    "origin_pos": 12
   },
   "source": [
    "我们甚至可以(**写入或读取从字符串映射到张量的字典**)。\n",
    "当我们要读取或写入模型中的所有权重时，这很方便。\n"
   ]
  },
  {
   "cell_type": "code",
   "execution_count": 14,
   "id": "9d62889d",
   "metadata": {
    "execution": {
     "iopub.execute_input": "2022-07-31T02:32:56.530996Z",
     "iopub.status.busy": "2022-07-31T02:32:56.530638Z",
     "iopub.status.idle": "2022-07-31T02:32:56.536985Z",
     "shell.execute_reply": "2022-07-31T02:32:56.536389Z"
    },
    "origin_pos": 14,
    "tab": [
     "pytorch"
    ]
   },
   "outputs": [
    {
     "data": {
      "text/plain": [
       "{'x': tensor([0, 1, 2, 3]), 'y': tensor([0., 0., 0., 0.])}"
      ]
     },
     "execution_count": 14,
     "metadata": {},
     "output_type": "execute_result"
    }
   ],
   "source": [
    "mydict = {'x': x, 'y':y}#第一个键为x,对应的值为张量x,第二个键为y对应的值为张量y\n",
    "torch.save(mydict, 'mydict')#保存字典\n",
    "mydict2 = torch.load('mydict')#读取字典，并把读取结果赋值给mydiict2\n",
    "mydict2"
   ]
  },
  {
   "cell_type": "markdown",
   "id": "9b254c7b",
   "metadata": {
    "origin_pos": 16
   },
   "source": [
    "## 5.5.2.**加载和保存模型参数**\n",
    "\n",
    "保存单个权重向量（或其他张量）确实有用，\n",
    "**但是如果我们想保存整个模型，并在以后加载它们，\n",
    "单独保存每个向量则会变得很麻烦。\n",
    "毕竟，我们可能有数百个参数散布在各处**。\n",
    "因此，深度学习框架提供了内置函数来保存和加载整个网络。\n",
    "需要注意的一个重要细节是，这将**保存模型的参数而不是保存整个模型**。\n",
    "因为模型本身可以包含任意代码，所以模型本身难以序列化。\n",
    "因此，**为了恢复模型，我们需要用代码生成架构，\n",
    "然后从磁盘加载已经保存的参数**。\n",
    "让我们从熟悉的多层感知机开始尝试一下。\n",
    "## 序列化的简单介绍 \n",
    "为什么要序列化？\n",
    "\n",
    "其实序列化最终的目的是为了对象可以跨平台存储，和进行网络传输。而我们进行跨平台存储和网络传输的方式就是IO，而我们的IO支持的数据格式就是字节数组。\n",
    "\n",
    "因为我们单方面的只把对象转成字节数组还不行，因为没有规则的字节数组我们是没办法把对象的本来面目还原回来的，所以我们必须在把对象转成字节数组的时候就制定一种规则（序列化），那么我们从IO流里面读出数据的时候再以这种规则把对象还原回来（反序列化）。\n",
    "\n",
    "如果我们要把一栋房子从一个地方运输到另一个地方去，序列化就是我把房子拆成一个个的砖块放到车子里，然后留下一张房子原来结构的图纸，反序列化就是我们把房子运输到了目的地以后，根据图纸把一块块砖头还原成房子原来面目的过程\n",
    "\n",
    "参考链接：https://zhuanlan.zhihu.com/p/40462507\n"
   ]
  },
  {
   "cell_type": "code",
   "execution_count": 6,
   "id": "44bdd6df",
   "metadata": {
    "code_folding": [],
    "execution": {
     "iopub.execute_input": "2022-07-31T02:32:56.539741Z",
     "iopub.status.busy": "2022-07-31T02:32:56.539403Z",
     "iopub.status.idle": "2022-07-31T02:32:56.545387Z",
     "shell.execute_reply": "2022-07-31T02:32:56.544765Z"
    },
    "origin_pos": 18,
    "tab": [
     "pytorch"
    ]
   },
   "outputs": [],
   "source": [
    "#包含一个隐藏层的线性神经网络\n",
    "class MLP(nn.Module):\n",
    "    def __init__(self):\n",
    "        super().__init__()\n",
    "        self.hidden = nn.Linear(20, 256)#隐藏层\n",
    "        self.output = nn.Linear(256, 10)#输出层\n",
    "\n",
    "    def forward(self, x):\n",
    "        return self.output(F.relu(self.hidden(x)))\n",
    "\n",
    "net = MLP()#实例化网络\n",
    "X = torch.randn(size=(2, 20))\n",
    "Y = net(X)#将数据传递给模型\n",
    "#print(Y)"
   ]
  },
  {
   "cell_type": "markdown",
   "id": "416bb902",
   "metadata": {
    "origin_pos": 20
   },
   "source": [
    "接下来，我们[**将模型的参数存储在一个叫做“mlp.params”的文件中。**]\n",
    "\n",
    "state_dict()是一个函数，返回一个包含整个模型的参数的有序字典,键是参数的名字，对应的值为参数值。\n",
    "\n",
    "https://pytorch.org/docs/stable/_modules/torch/nn/modules/module.html#Module.state_dict\n",
    "\n",
    "### model.eval()介绍\n",
    "一般情况下，我们训练过程如下：\n",
    "\n",
    "1、拿到数据后进行训练，在训练过程中，使用\n",
    "\n",
    "model.train(）：告诉我们的网络，这个阶段是用来训练的，可以更新参数。\n",
    "\n",
    "2、训练完成后进行预测，在预测过程中，使用\n",
    "\n",
    "model.eval() ： 模型中有BatchNormalization和Dropout，在预测时使用model.eval()后会将其关闭以免影响预测结果。因为Dropout只用于训练集，而不用于测试集。也就是说告诉我们的网络，这个阶段是用来测试的。\n"
   ]
  },
  {
   "cell_type": "code",
   "execution_count": 16,
   "id": "0c11c100",
   "metadata": {
    "execution": {
     "iopub.execute_input": "2022-07-31T02:32:56.549285Z",
     "iopub.status.busy": "2022-07-31T02:32:56.548944Z",
     "iopub.status.idle": "2022-07-31T02:32:56.553472Z",
     "shell.execute_reply": "2022-07-31T02:32:56.552867Z"
    },
    "origin_pos": 22,
    "tab": [
     "pytorch"
    ]
   },
   "outputs": [
    {
     "name": "stdout",
     "output_type": "stream",
     "text": [
      "OrderedDict([('hidden.weight', tensor([[ 0.1466,  0.1546, -0.1447,  ...,  0.2060,  0.1407,  0.1187],\n",
      "        [-0.0646,  0.0516,  0.1553,  ..., -0.2193,  0.1691,  0.1678],\n",
      "        [-0.0721,  0.2059, -0.0427,  ...,  0.0294,  0.1033, -0.1861],\n",
      "        ...,\n",
      "        [ 0.0628, -0.1587,  0.1595,  ...,  0.0454,  0.0604, -0.0561],\n",
      "        [-0.0771, -0.0201,  0.0466,  ...,  0.2197,  0.1743,  0.2098],\n",
      "        [-0.1619,  0.2094, -0.0399,  ...,  0.0864,  0.1509, -0.0713]])), ('hidden.bias', tensor([ 0.0898,  0.2019, -0.1800,  0.0750,  0.0812, -0.0390,  0.2076, -0.0920,\n",
      "        -0.1772,  0.1655, -0.0095, -0.0533, -0.0025,  0.1439, -0.0531, -0.1180,\n",
      "        -0.0167, -0.0317,  0.1658,  0.0756,  0.0631, -0.1290, -0.2110,  0.0101,\n",
      "        -0.0241,  0.0963,  0.1520, -0.2036, -0.1057, -0.1390,  0.0072, -0.0101,\n",
      "         0.2015, -0.0925, -0.0650, -0.1406, -0.1050, -0.0717, -0.0053,  0.2027,\n",
      "        -0.0540,  0.0798, -0.1860, -0.0115, -0.0071,  0.0144, -0.1936, -0.1720,\n",
      "        -0.2051, -0.0866,  0.0973,  0.1566,  0.1168, -0.1658, -0.2226,  0.0518,\n",
      "         0.2032,  0.1477,  0.0325, -0.0697,  0.1333, -0.1824,  0.0985, -0.2220,\n",
      "         0.0772,  0.2143,  0.0877, -0.0277,  0.1168,  0.1853,  0.0534,  0.1933,\n",
      "        -0.1321, -0.1209, -0.1322, -0.2193, -0.2224,  0.0311, -0.0093, -0.0174,\n",
      "        -0.1580,  0.2001,  0.0049, -0.0043, -0.2197, -0.1514, -0.2134, -0.1057,\n",
      "         0.0829, -0.0173,  0.1388,  0.1552,  0.2011, -0.1576,  0.1921, -0.1393,\n",
      "        -0.0361, -0.1730,  0.1719,  0.0147,  0.1092,  0.2008,  0.0898, -0.0296,\n",
      "        -0.0041, -0.0252, -0.0139, -0.1132, -0.2006, -0.0502, -0.0484, -0.1602,\n",
      "         0.2022,  0.1726, -0.0104, -0.1681,  0.1212, -0.1926,  0.1675, -0.0035,\n",
      "        -0.1581, -0.0927,  0.0843,  0.0430, -0.1007,  0.0630, -0.0846,  0.0734,\n",
      "         0.0152, -0.0277,  0.1545, -0.1555, -0.1627,  0.1344, -0.0034,  0.1049,\n",
      "         0.1028, -0.2020, -0.1649, -0.0402,  0.2102, -0.1650, -0.1650,  0.0495,\n",
      "        -0.0616, -0.0024, -0.0957,  0.0677, -0.0657,  0.0278,  0.2182, -0.1280,\n",
      "        -0.2150,  0.0673, -0.1589,  0.0731, -0.0634, -0.2203, -0.1393, -0.1578,\n",
      "        -0.0772,  0.1824,  0.0778, -0.0317,  0.1793, -0.0344, -0.2226,  0.0421,\n",
      "        -0.1540, -0.1800, -0.0229, -0.1219,  0.0500,  0.1104,  0.0301,  0.0436,\n",
      "         0.1716, -0.2048, -0.0792, -0.1153,  0.0109,  0.1544, -0.1187,  0.0006,\n",
      "         0.0925,  0.1432,  0.0728,  0.0220, -0.1443,  0.0906,  0.0138,  0.0981,\n",
      "         0.0146, -0.1043, -0.1579,  0.1025,  0.1241,  0.2134, -0.0362,  0.0120,\n",
      "         0.0594, -0.0624,  0.0303, -0.0618, -0.2083, -0.1403, -0.1038, -0.1217,\n",
      "        -0.2002, -0.2178, -0.0609,  0.0889,  0.0496, -0.0605,  0.2077,  0.2037,\n",
      "        -0.1482,  0.1306,  0.2228, -0.0979, -0.0606, -0.0777, -0.1998, -0.0792,\n",
      "        -0.0040,  0.1826, -0.1055, -0.1911,  0.0533,  0.2037, -0.1092, -0.1115,\n",
      "        -0.1105, -0.1133, -0.0506, -0.1825,  0.0927, -0.1371,  0.0640, -0.1458,\n",
      "        -0.1749, -0.0835, -0.1636, -0.1881,  0.1232,  0.1430,  0.0502,  0.2017,\n",
      "        -0.0289, -0.2120, -0.0194, -0.0503,  0.1835,  0.1943,  0.0744, -0.0281])), ('output.weight', tensor([[-2.1028e-02, -1.7413e-02, -4.8870e-03,  ..., -1.1245e-03,\n",
      "          5.2571e-02,  9.8549e-03],\n",
      "        [-1.0695e-02, -3.8742e-02, -3.8224e-02,  ..., -9.5816e-03,\n",
      "         -2.6893e-03, -5.4516e-02],\n",
      "        [ 2.3391e-02, -3.1267e-02, -4.3757e-02,  ...,  4.7981e-02,\n",
      "          3.3697e-02, -1.9641e-02],\n",
      "        ...,\n",
      "        [-1.9666e-02,  8.3499e-05,  9.7222e-03,  ..., -2.3784e-03,\n",
      "         -4.6205e-02,  5.6047e-02],\n",
      "        [ 2.8254e-02,  5.9723e-02, -4.8171e-02,  ..., -5.3236e-02,\n",
      "         -3.9749e-02, -1.7260e-02],\n",
      "        [ 2.6789e-02,  4.1069e-02, -3.4024e-02,  ..., -2.6156e-02,\n",
      "          6.0990e-02, -9.3185e-03]])), ('output.bias', tensor([-0.0548,  0.0577,  0.0553, -0.0225, -0.0563,  0.0557,  0.0153, -0.0499,\n",
      "        -0.0244,  0.0305]))])\n"
     ]
    }
   ],
   "source": [
    "#保存包含模型参数的状态字典\n",
    "torch.save(net.state_dict(), 'mlp.params')\n",
    "print(net.state_dict())#是有序字典，包括了两层线性全连接层的权重和偏执（前面定义的包含一个隐藏层的多层感知机的所有的参数）\n",
    "#有序字典和通常字典类似，只是它可以记录元素插入其中的顺序，而一般字典是会以任意的顺序迭代的。"
   ]
  },
  {
   "cell_type": "markdown",
   "id": "7bef8dab",
   "metadata": {
    "origin_pos": 24
   },
   "source": [
    "为了恢复模型，我们[**实例化了原始多层感知机模型的一个备份。**]\n",
    "这里我们不需要随机初始化模型参数，而是(**直接读取文件中存储的参数。**)\n"
   ]
  },
  {
   "cell_type": "code",
   "execution_count": 17,
   "id": "3b5367f0",
   "metadata": {
    "execution": {
     "iopub.execute_input": "2022-07-31T02:32:56.556338Z",
     "iopub.status.busy": "2022-07-31T02:32:56.556009Z",
     "iopub.status.idle": "2022-07-31T02:32:56.562475Z",
     "shell.execute_reply": "2022-07-31T02:32:56.561831Z"
    },
    "origin_pos": 26,
    "tab": [
     "pytorch"
    ]
   },
   "outputs": [
    {
     "data": {
      "text/plain": [
       "MLP(\n",
       "  (hidden): Linear(in_features=20, out_features=256, bias=True)\n",
       "  (output): Linear(in_features=256, out_features=10, bias=True)\n",
       ")"
      ]
     },
     "execution_count": 17,
     "metadata": {},
     "output_type": "execute_result"
    }
   ],
   "source": [
    "clone = MLP()#实例化原始多层感知机的一个备份\n",
    "clone.load_state_dict(torch.load('mlp.params'))#将前面储存的包含参数的字典加载出来，利用.load_state_dict使得多层感知机clone的参数并不是随机初始化的而是前面我们保存的参数\n",
    "clone.eval()#从train模式调整为test模式，不再进行训练，不再更改梯度"
   ]
  },
  {
   "cell_type": "markdown",
   "id": "c2965c95",
   "metadata": {
    "origin_pos": 28
   },
   "source": [
    "由于两个实例具有相同的模型参数，在输入相同的`X`时，\n",
    "两个实例的计算结果应该相同。\n",
    "让我们来验证一下。\n"
   ]
  },
  {
   "cell_type": "code",
   "execution_count": 18,
   "id": "bfd32641",
   "metadata": {
    "execution": {
     "iopub.execute_input": "2022-07-31T02:32:56.565379Z",
     "iopub.status.busy": "2022-07-31T02:32:56.565041Z",
     "iopub.status.idle": "2022-07-31T02:32:56.570481Z",
     "shell.execute_reply": "2022-07-31T02:32:56.569880Z"
    },
    "origin_pos": 30,
    "tab": [
     "pytorch"
    ]
   },
   "outputs": [
    {
     "data": {
      "text/plain": [
       "tensor([[True, True, True, True, True, True, True, True, True, True],\n",
       "        [True, True, True, True, True, True, True, True, True, True]])"
      ]
     },
     "execution_count": 18,
     "metadata": {},
     "output_type": "execute_result"
    }
   ],
   "source": [
    "Y_clone = clone(X)#向clone里面传递数据\n",
    "Y_clone == Y#Y=net（X)"
   ]
  },
  {
   "cell_type": "markdown",
   "id": "db5112ff",
   "metadata": {},
   "source": [
    "### 5.5.3.保存和加载震整个模型\n",
    "存整个网络模型:网络结构+权重参数 "
   ]
  },
  {
   "cell_type": "code",
   "execution_count": 23,
   "id": "f7279c23",
   "metadata": {},
   "outputs": [
    {
     "data": {
      "text/plain": [
       "tensor([[True, True, True, True, True, True, True, True, True, True],\n",
       "        [True, True, True, True, True, True, True, True, True, True]])"
      ]
     },
     "execution_count": 23,
     "metadata": {},
     "output_type": "execute_result"
    }
   ],
   "source": [
    "class MLP(nn.Module):\n",
    "    def __init__(self):\n",
    "        super().__init__()\n",
    "        self.hidden = nn.Linear(20, 256)#隐藏层\n",
    "        self.output = nn.Linear(256, 10)#输出层\n",
    "\n",
    "    def forward(self, x):\n",
    "        return self.output(F.relu(self.hidden(x)))\n",
    "\n",
    "net = MLP()#实例化网络\n",
    "#保存模型net\n",
    "torch.save(net,'model')\n",
    "#读取模型\n",
    "net_copy=torch.load('model')\n",
    "#向其传递数据，测试是否实现了模型的读取\n",
    "net_copy(X)==net(X)"
   ]
  },
  {
   "cell_type": "markdown",
   "id": "2092c4f8",
   "metadata": {
    "origin_pos": 32
   },
   "source": [
    "## 小结\n",
    "\n",
    "* `save`和`load`函数可用于张量对象的文件读写。\n",
    "* 我们可以通过参数字典保存和加载网络的全部参数。\n",
    "* 保存架构必须在代码中完成，而不是在参数中完成。\n",
    "\n"
   ]
  },
  {
   "cell_type": "markdown",
   "id": "cc2f5d85",
   "metadata": {
    "origin_pos": 34,
    "tab": [
     "pytorch"
    ]
   },
   "source": [
    "[Discussions](https://discuss.d2l.ai/t/1839)\n"
   ]
  }
 ],
 "metadata": {
  "kernelspec": {
   "display_name": "Python 3 (ipykernel)",
   "language": "python",
   "name": "python3"
  },
  "language_info": {
   "codemirror_mode": {
    "name": "ipython",
    "version": 3
   },
   "file_extension": ".py",
   "mimetype": "text/x-python",
   "name": "python",
   "nbconvert_exporter": "python",
   "pygments_lexer": "ipython3",
   "version": "3.9.12"
  }
 },
 "nbformat": 4,
 "nbformat_minor": 5
}
