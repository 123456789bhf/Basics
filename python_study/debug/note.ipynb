{
 "cells": [
  {
   "cell_type": "markdown",
   "metadata": {},
   "source": []
  },
  {
   "cell_type": "markdown",
   "metadata": {},
   "source": []
  },
  {
   "cell_type": "markdown",
   "metadata": {},
   "source": [
    "## 参考链接\n",
    "https://liaoxuefeng.com/books/python/error-debug-test/debug/\n",
    "\n",
    "\n",
    "### 方法1\n",
    "第一种方法简单直接粗暴有效，就是用print()把可能有问题的变量打印出来看看："
   ]
  },
  {
   "cell_type": "code",
   "execution_count": null,
   "metadata": {},
   "outputs": [],
   "source": [
    "def foo(s):\n",
    "    n = int(s)\n",
    "    print('>>> n = %d' % n)\n",
    "    return 10 / n\n",
    "\n",
    "def main():\n",
    "    foo('0')\n",
    "\n",
    "main()"
   ]
  },
  {
   "cell_type": "code",
   "execution_count": null,
   "metadata": {},
   "outputs": [],
   "source": [
    "用print()最大的坏处是将来还得删掉它，想想程序里到处都是print()，运行结果也会包含很多垃圾信息。所以，我们又有第二种方法。\n",
    "\n",
    "断言\n",
    "凡是用print()来辅助查看的地方，都可以用断言（assert）来替代：\n",
    "\n"
   ]
  },
  {
   "cell_type": "code",
   "execution_count": null,
   "metadata": {},
   "outputs": [],
   "source": [
    "def foo(s):\n",
    "    n = int(s)\n",
    "    assert n != 0, 'n is zero!'\n",
    "    return 10 / n\n",
    "\n",
    "def main():\n",
    "    foo('0')"
   ]
  },
  {
   "cell_type": "markdown",
   "metadata": {},
   "source": [
    "#### 方法二：logging\n"
   ]
  },
  {
   "cell_type": "markdown",
   "metadata": {},
   "source": [
    "## 方法三：设置logger日志"
   ]
  },
  {
   "cell_type": "code",
   "execution_count": 6,
   "metadata": {},
   "outputs": [
    {
     "name": "stderr",
     "output_type": "stream",
     "text": [
      "2024-11-03 10:33:16,722 - __main__ - DEBUG - 这是调试信息\n",
      "2024-11-03 10:33:16,722 - __main__ - DEBUG - 这是调试信息\n",
      "2024-11-03 10:33:16,722 - __main__ - DEBUG - 这是调试信息\n",
      "2024-11-03 10:33:16,722 - __main__ - DEBUG - 这是调试信息\n",
      "2024-11-03 10:33:16,722 - __main__ - DEBUG - 这是调试信息\n",
      "2024-11-03 10:33:16,722 - __main__ - DEBUG - 这是调试信息\n",
      "2024-11-03 10:33:16,727 - __main__ - INFO - 这是一般信息\n",
      "2024-11-03 10:33:16,727 - __main__ - INFO - 这是一般信息\n",
      "2024-11-03 10:33:16,727 - __main__ - INFO - 这是一般信息\n",
      "2024-11-03 10:33:16,727 - __main__ - INFO - 这是一般信息\n",
      "2024-11-03 10:33:16,727 - __main__ - INFO - 这是一般信息\n",
      "2024-11-03 10:33:16,727 - __main__ - INFO - 这是一般信息\n",
      "2024-11-03 10:33:16,731 - __main__ - WARNING - 这是警告信息\n",
      "2024-11-03 10:33:16,731 - __main__ - WARNING - 这是警告信息\n",
      "2024-11-03 10:33:16,731 - __main__ - WARNING - 这是警告信息\n",
      "2024-11-03 10:33:16,731 - __main__ - WARNING - 这是警告信息\n",
      "2024-11-03 10:33:16,731 - __main__ - WARNING - 这是警告信息\n",
      "2024-11-03 10:33:16,731 - __main__ - WARNING - 这是警告信息\n",
      "2024-11-03 10:33:16,736 - __main__ - ERROR - 这是错误信息\n",
      "2024-11-03 10:33:16,736 - __main__ - ERROR - 这是错误信息\n",
      "2024-11-03 10:33:16,736 - __main__ - ERROR - 这是错误信息\n",
      "2024-11-03 10:33:16,736 - __main__ - ERROR - 这是错误信息\n",
      "2024-11-03 10:33:16,736 - __main__ - ERROR - 这是错误信息\n",
      "2024-11-03 10:33:16,736 - __main__ - ERROR - 这是错误信息\n",
      "2024-11-03 10:33:16,740 - __main__ - CRITICAL - 这是严重错误信息\n",
      "2024-11-03 10:33:16,740 - __main__ - CRITICAL - 这是严重错误信息\n",
      "2024-11-03 10:33:16,740 - __main__ - CRITICAL - 这是严重错误信息\n",
      "2024-11-03 10:33:16,740 - __main__ - CRITICAL - 这是严重错误信息\n",
      "2024-11-03 10:33:16,740 - __main__ - CRITICAL - 这是严重错误信息\n",
      "2024-11-03 10:33:16,740 - __main__ - CRITICAL - 这是严重错误信息\n"
     ]
    }
   ],
   "source": [
    "import logging\n",
    "\n",
    "def get_logger(name):\n",
    "    \"\"\"创建并配置日志记录器\"\"\"\n",
    "    logger = logging.getLogger(name)\n",
    "    logger.setLevel(logging.DEBUG)  # 设置日志级别\n",
    "    handler = logging.StreamHandler()  # 输出到控制台\n",
    "    formatter = logging.Formatter('%(asctime)s - %(name)s - %(levelname)s - %(message)s')\n",
    "    handler.setFormatter(formatter)\n",
    "    logger.addHandler(handler)\n",
    "    return logger\n",
    "\n",
    "# 在某个模块中使用 logger\n",
    "logger = get_logger(__name__)\n",
    "\n",
    "def some_function():\n",
    "    logger.debug(\"这是调试信息\")\n",
    "    logger.info(\"这是一般信息\")\n",
    "    logger.warning(\"这是警告信息\")\n",
    "    logger.error(\"这是错误信息\")\n",
    "    logger.critical(\"这是严重错误信息\")\n",
    "\n",
    "if __name__ == \"__main__\":\n",
    "    some_function()\n"
   ]
  },
  {
   "cell_type": "markdown",
   "metadata": {},
   "source": []
  }
 ],
 "metadata": {
  "kernelspec": {
   "display_name": "myconda",
   "language": "python",
   "name": "python3"
  },
  "language_info": {
   "codemirror_mode": {
    "name": "ipython",
    "version": 3
   },
   "file_extension": ".py",
   "mimetype": "text/x-python",
   "name": "python",
   "nbconvert_exporter": "python",
   "pygments_lexer": "ipython3",
   "version": "3.8.19"
  }
 },
 "nbformat": 4,
 "nbformat_minor": 2
}
