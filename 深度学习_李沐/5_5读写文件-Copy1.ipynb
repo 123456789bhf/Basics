{
 "cells": [
  {
   "cell_type": "markdown",
   "id": "3e089410",
   "metadata": {
    "origin_pos": 0
   },
   "source": [
    "# 5.5读写文件\n",
    "\n",
    "到目前为止，我们讨论了如何处理数据，\n",
    "以及如何构建、训练和测试深度学习模型。\n",
    "然而，有时我们希望保存训练的模型，\n",
    "以备将来在各种环境中使用（比如在部署中进行预测）。\n",
    "此外，当运行一个耗时较长的训练过程时，\n",
    "最佳的做法是定期保存中间结果，\n",
    "以确保在服务器电源被不小心断掉时，我们不会损失几天的计算结果。\n",
    "因此，现在是时候学习如何加载和存储权重向量和整个模型了。\n",
    "\n",
    "## 5.5.1.**加载和保存张量**)\n",
    "\n",
    "对于单个张量，我们可以直接调用`load`和`save`函数分别读写它们。\n",
    "这两个函数都要求我们提供一个名称，`save`要求将要保存的变量作为输入。\n"
   ]
  },
  {
   "cell_type": "code",
   "execution_count": 4,
   "id": "37d8dbd1",
   "metadata": {
    "execution": {
     "iopub.execute_input": "2022-07-31T02:32:55.803857Z",
     "iopub.status.busy": "2022-07-31T02:32:55.803417Z",
     "iopub.status.idle": "2022-07-31T02:32:56.504212Z",
     "shell.execute_reply": "2022-07-31T02:32:56.503478Z"
    },
    "origin_pos": 2,
    "tab": [
     "pytorch"
    ]
   },
   "outputs": [],
   "source": [
    "import torch\n",
    "from torch import nn\n",
    "import torch.nn.functional as F\n",
    "\n",
    "x = torch.arange(4)\n",
    "#jupyter文件的默认储存位置\n",
    "torch.save(x, 'x-file')\n",
    "#也可以更改存储数据的位置（按照绝对路径进行存储）\n",
    "torch.save(x,'D:/BaiduNetdiskDownload/x-filess')"
   ]
  },
  {
   "cell_type": "markdown",
   "id": "21398c0a",
   "metadata": {},
   "source": [
    "torch.save介绍\n",
    "https://pytorch.org/docs/stable/generated/torch.save.html?highlight=torch+save#torch.save"
   ]
  },
  {
   "cell_type": "code",
   "execution_count": null,
   "id": "8aee20c8",
   "metadata": {},
   "outputs": [],
   "source": []
  },
  {
   "cell_type": "markdown",
   "id": "baf2885d",
   "metadata": {
    "origin_pos": 4
   },
   "source": [
    "我们现在可以将存储在文件中的数据读回内存。\n"
   ]
  },
  {
   "cell_type": "code",
   "execution_count": 5,
   "id": "b80fe2ae",
   "metadata": {
    "execution": {
     "iopub.execute_input": "2022-07-31T02:32:56.507830Z",
     "iopub.status.busy": "2022-07-31T02:32:56.507438Z",
     "iopub.status.idle": "2022-07-31T02:32:56.518747Z",
     "shell.execute_reply": "2022-07-31T02:32:56.518155Z"
    },
    "origin_pos": 6,
    "tab": [
     "pytorch"
    ]
   },
   "outputs": [
    {
     "data": {
      "text/plain": [
       "tensor([0, 1, 2, 3])"
      ]
     },
     "execution_count": 5,
     "metadata": {},
     "output_type": "execute_result"
    }
   ],
   "source": [
    "x2 = torch.load('x-file')\n",
    "x2"
   ]
  },
  {
   "cell_type": "markdown",
   "id": "f68d2fa6",
   "metadata": {
    "origin_pos": 8
   },
   "source": [
    "我们可以[**存储一个张量列表，然后把它们读回内存。**]\n"
   ]
  },
  {
   "cell_type": "markdown",
   "id": "16f62891",
   "metadata": {},
   "source": [
    "#### 列表的简单介绍\n",
    "\n",
    "https://www.runoob.com/python/python-lists.html\n",
    "\n",
    "列表是最常用的Python数据类型\n",
    "\n",
    "列表的数据项不需要具有相同的类型\n",
    "\n",
    "创建一个列表，只要把逗号分隔的不同的数据项使用方括号括起来即可。如下所示："
   ]
  },
  {
   "cell_type": "code",
   "execution_count": 6,
   "id": "719f76c4",
   "metadata": {},
   "outputs": [
    {
     "name": "stdout",
     "output_type": "stream",
     "text": [
      "physics\n",
      "[2, 3, 4, 5]\n",
      "['Google', 'Runoob']\n",
      "['physics', 'chemistry', 1997, 2000]\n",
      "After deleting value at index 2 : \n",
      "['physics', 'chemistry', 2000]\n"
     ]
    }
   ],
   "source": [
    "#1,创建列表\n",
    "list1 = ['physics', 'chemistry', 1997, 2000]\n",
    "list2 = [1, 2, 3, 4, 5,6]\n",
    "list3 = [\"a\", \"b\", \"c\", \"d\"]\n",
    "#2，访问列表\n",
    "#与张量的访问方式一样，列表索引从0开始。列表可以进行截取、组合\n",
    "print(list1[0])# list1[0]的值\n",
    "print(list2[1:5])# list2[1:5]，左闭右开的，访问索引值为1，2，3，4的元素，也就是第2，3，4，5个\n",
    "#3，更新列表\n",
    "list = []          ## 空列表\n",
    "list.append('Google')   ## 使用 .append() 添加元素\n",
    "list.append('Runoob')\n",
    "print(list)\n",
    "#4,删除列表\n",
    "list1 = ['physics', 'chemistry', 1997, 2000]\n",
    "print(list1)\n",
    "del list1[2]#删除列表中指定的元素\n",
    "print(\"After deleting value at index 2 : \")\n",
    "print(list1)"
   ]
  },
  {
   "cell_type": "code",
   "execution_count": 7,
   "id": "e7b0261e",
   "metadata": {
    "execution": {
     "iopub.execute_input": "2022-07-31T02:32:56.521551Z",
     "iopub.status.busy": "2022-07-31T02:32:56.521348Z",
     "iopub.status.idle": "2022-07-31T02:32:56.528208Z",
     "shell.execute_reply": "2022-07-31T02:32:56.527619Z"
    },
    "origin_pos": 10,
    "tab": [
     "pytorch"
    ]
   },
   "outputs": [
    {
     "data": {
      "text/plain": [
       "(tensor([0, 1, 2, 3]), tensor([0., 0., 0., 0.]))"
      ]
     },
     "execution_count": 7,
     "metadata": {},
     "output_type": "execute_result"
    }
   ],
   "source": [
    "y = torch.zeros(4)#长度维4的张量\n",
    "torch.save([x, y],'x-files')#[x,y]列表中的两个元素分别是张量x、张量y\n",
    "x2, y2 = torch.load('x-files')#从文件中读取数据\n",
    "x2, y2"
   ]
  },
  {
   "cell_type": "markdown",
   "id": "4227d24b",
   "metadata": {
    "origin_pos": 12
   },
   "source": [
    "我们甚至可以(**写入或读取从字符串映射到张量的字典**)。\n",
    "当我们要读取或写入模型中的所有权重时，这很方便。\n"
   ]
  },
  {
   "cell_type": "code",
   "execution_count": 20,
   "id": "9d62889d",
   "metadata": {
    "execution": {
     "iopub.execute_input": "2022-07-31T02:32:56.530996Z",
     "iopub.status.busy": "2022-07-31T02:32:56.530638Z",
     "iopub.status.idle": "2022-07-31T02:32:56.536985Z",
     "shell.execute_reply": "2022-07-31T02:32:56.536389Z"
    },
    "origin_pos": 14,
    "tab": [
     "pytorch"
    ]
   },
   "outputs": [
    {
     "data": {
      "text/plain": [
       "{'x': tensor([0, 1, 2, 3]), 'y': tensor([0., 0., 0., 0.])}"
      ]
     },
     "execution_count": 20,
     "metadata": {},
     "output_type": "execute_result"
    }
   ],
   "source": [
    "mydict = {'x': x, 'y':y}#第一个键为x,对应的值为张量x,第二个键为y对应的值为张量y\n",
    "torch.save(mydict, 'mydict')#保存字典\n",
    "mydict2 = torch.load('mydict')#读取字典，并把读取结果赋值给mydiict2\n",
    "mydict2"
   ]
  },
  {
   "cell_type": "markdown",
   "id": "9b254c7b",
   "metadata": {
    "origin_pos": 16
   },
   "source": [
    "## 5.5.2.**加载和保存模型参数**\n",
    "\n",
    "保存单个权重向量（或其他张量）确实有用，\n",
    "**但是如果我们想保存整个模型，并在以后加载它们，\n",
    "单独保存每个向量则会变得很麻烦。\n",
    "毕竟，我们可能有数百个参数散布在各处**。\n",
    "因此，深度学习框架提供了内置函数来保存和加载整个网络。\n",
    "需要注意的一个重要细节是，这将**保存模型的参数而不是保存整个模型**。\n",
    "因为模型本身可以包含任意代码，所以模型本身难以序列化。\n",
    "因此，**为了恢复模型，我们需要用代码生成架构，\n",
    "然后从磁盘加载已经保存的参数**。\n",
    "让我们从熟悉的多层感知机开始尝试一下。\n",
    "## 序列化的简单介绍 \n",
    "为什么要序列化？\n",
    "\n",
    "其实序列化最终的目的是为了对象可以跨平台存储，和进行网络传输。而我们进行跨平台存储和网络传输的方式就是IO，而我们的IO支持的数据格式就是字节数组。\n",
    "\n",
    "因为我们单方面的只把对象转成字节数组还不行，因为没有规则的字节数组我们是没办法把对象的本来面目还原回来的，所以我们必须在把对象转成字节数组的时候就制定一种规则（序列化），那么我们从IO流里面读出数据的时候再以这种规则把对象还原回来（反序列化）。\n",
    "\n",
    "如果我们要把一栋房子从一个地方运输到另一个地方去，序列化就是我把房子拆成一个个的砖块放到车子里，然后留下一张房子原来结构的图纸，反序列化就是我们把房子运输到了目的地以后，根据图纸把一块块砖头还原成房子原来面目的过程\n",
    "\n",
    "参考链接：https://zhuanlan.zhihu.com/p/40462507\n"
   ]
  },
  {
   "cell_type": "code",
   "execution_count": 9,
   "id": "44bdd6df",
   "metadata": {
    "execution": {
     "iopub.execute_input": "2022-07-31T02:32:56.539741Z",
     "iopub.status.busy": "2022-07-31T02:32:56.539403Z",
     "iopub.status.idle": "2022-07-31T02:32:56.545387Z",
     "shell.execute_reply": "2022-07-31T02:32:56.544765Z"
    },
    "origin_pos": 18,
    "tab": [
     "pytorch"
    ]
   },
   "outputs": [],
   "source": [
    "#包含一个隐藏层的线性神经网络\n",
    "class MLP(nn.Module):\n",
    "    def __init__(self):\n",
    "        super().__init__()\n",
    "        self.hidden = nn.Linear(20, 256)#隐藏层\n",
    "        self.output = nn.Linear(256, 10)#输出层\n",
    "\n",
    "    def forward(self, x):\n",
    "        return self.output(F.relu(self.hidden(x)))\n",
    "\n",
    "net = MLP()#创建对象\n",
    "X = torch.randn(size=(2, 20))\n",
    "Y = net(X)#实例化神经网络\n",
    "#print(Y)"
   ]
  },
  {
   "cell_type": "markdown",
   "id": "416bb902",
   "metadata": {
    "origin_pos": 20
   },
   "source": [
    "接下来，我们[**将模型的参数存储在一个叫做“mlp.params”的文件中。**]\n",
    "\n",
    "state_dict()是一个状态字典，是一个函数，返回一个包含整个模型的参数的字典。\n",
    "\n",
    "https://pytorch.org/docs/stable/_modules/torch/nn/modules/module.html#Module.state_dict\n",
    "\n",
    "### model.eval()介绍\n",
    "一般情况下，我们训练过程如下：\n",
    "\n",
    "1、拿到数据后进行训练，在训练过程中，使用\n",
    "\n",
    "model.train(）：告诉我们的网络，这个阶段是用来训练的，可以更新参数。\n",
    "\n",
    "2、训练完成后进行预测，在预测过程中，使用\n",
    "\n",
    "model.eval() ： 模型中有BatchNormalization和Dropout，在预测时使用model.eval()后会将其关闭以免影响预测结果。因为Dropout只用于训练集，而不用于测试集。也就是说告诉我们的网络，这个阶段是用来测试的。\n"
   ]
  },
  {
   "cell_type": "code",
   "execution_count": 21,
   "id": "0c11c100",
   "metadata": {
    "execution": {
     "iopub.execute_input": "2022-07-31T02:32:56.549285Z",
     "iopub.status.busy": "2022-07-31T02:32:56.548944Z",
     "iopub.status.idle": "2022-07-31T02:32:56.553472Z",
     "shell.execute_reply": "2022-07-31T02:32:56.552867Z"
    },
    "origin_pos": 22,
    "tab": [
     "pytorch"
    ]
   },
   "outputs": [
    {
     "name": "stdout",
     "output_type": "stream",
     "text": [
      "OrderedDict([('hidden.weight', tensor([[-0.0792,  0.1405, -0.1329,  ...,  0.1284,  0.1793,  0.0650],\n",
      "        [-0.1920, -0.1306, -0.1046,  ...,  0.0726,  0.0067,  0.0335],\n",
      "        [-0.1403, -0.0547,  0.1052,  ..., -0.1143,  0.0948,  0.0781],\n",
      "        ...,\n",
      "        [ 0.1167, -0.1805, -0.0510,  ..., -0.1867,  0.0077,  0.1119],\n",
      "        [ 0.0291, -0.1012, -0.0737,  ...,  0.0221,  0.1803, -0.0033],\n",
      "        [ 0.1964,  0.1413,  0.0171,  ...,  0.0035, -0.1897,  0.1791]])), ('hidden.bias', tensor([ 1.5912e-01,  1.9645e-01,  2.1733e-02,  1.0314e-01,  5.9395e-02,\n",
      "         1.3620e-01,  1.4268e-01, -4.0706e-02,  2.2375e-02, -1.9749e-02,\n",
      "         1.3490e-01, -1.4058e-01,  1.2907e-01,  3.0107e-02,  1.2111e-01,\n",
      "        -1.0571e-01, -1.5436e-01, -8.3626e-02,  6.0186e-02,  2.3605e-02,\n",
      "        -1.3930e-01,  1.6700e-01,  9.0544e-02, -9.2413e-03,  1.0257e-01,\n",
      "        -1.7251e-01,  2.0846e-01,  1.7614e-01,  1.3854e-01, -1.5775e-01,\n",
      "         1.7772e-01,  2.1382e-01,  1.5253e-01,  8.5622e-04, -9.1895e-02,\n",
      "         1.4252e-02, -2.7515e-02,  1.3271e-01, -1.1290e-01, -6.9560e-02,\n",
      "        -3.0541e-02, -5.6101e-02,  1.8065e-04, -1.5625e-01,  2.1894e-01,\n",
      "         1.4238e-01, -1.9700e-01,  1.2945e-01, -5.6014e-02, -1.2043e-01,\n",
      "        -1.5809e-01,  5.6265e-02, -1.9321e-01, -1.3413e-01,  1.7597e-01,\n",
      "        -1.1120e-01,  1.3661e-01,  7.5893e-02, -1.9344e-01,  1.6449e-01,\n",
      "        -6.2050e-02,  7.3665e-02,  6.1305e-02,  8.9714e-02,  2.1375e-01,\n",
      "         3.8895e-02, -6.6981e-02,  5.6822e-02, -1.7674e-01,  1.5644e-02,\n",
      "        -9.6544e-02,  4.8236e-02,  5.9289e-02,  2.2131e-01,  3.0002e-02,\n",
      "        -1.6979e-01, -1.0462e-01,  4.6510e-02, -1.3373e-01, -2.1591e-01,\n",
      "        -1.5833e-01, -1.1900e-01, -6.2067e-02, -1.1155e-02, -2.0766e-01,\n",
      "         5.5990e-02, -2.2068e-01, -3.5408e-02,  6.6281e-02, -1.8022e-02,\n",
      "        -1.2633e-01, -6.2204e-03,  7.2774e-02,  3.6499e-02,  2.0850e-01,\n",
      "        -7.7226e-02, -1.7358e-02, -1.4161e-01, -1.2861e-01, -1.4226e-01,\n",
      "        -1.6268e-01, -3.3428e-02, -7.2981e-02, -1.7519e-01,  4.3608e-03,\n",
      "        -1.5640e-02, -1.8386e-01, -2.2302e-01,  1.8032e-01,  1.2613e-01,\n",
      "        -2.4531e-02,  1.2256e-01, -1.3315e-01,  1.5188e-01,  1.3593e-01,\n",
      "         1.6931e-01,  1.2678e-01,  7.0111e-02, -1.2949e-01,  2.9882e-02,\n",
      "         2.1236e-01, -1.5933e-01,  8.9067e-02, -7.8070e-02,  8.2414e-02,\n",
      "        -1.4759e-01, -3.5055e-02, -6.4114e-02, -8.6681e-02, -9.4750e-02,\n",
      "        -1.7459e-01, -1.6424e-01, -2.2030e-01,  1.1041e-01,  3.2992e-03,\n",
      "         2.6803e-03, -1.2434e-01, -2.0491e-01,  9.3415e-02,  1.4561e-01,\n",
      "        -1.3415e-01, -3.6047e-02, -5.8429e-02,  1.6934e-01,  1.7497e-02,\n",
      "        -2.0069e-01, -7.8489e-02,  1.5287e-01,  3.6680e-03,  1.0512e-01,\n",
      "        -2.6429e-02, -2.0310e-01, -6.2662e-02,  1.8364e-01, -1.3992e-01,\n",
      "        -1.0993e-02, -1.0593e-01, -1.5167e-01, -1.0489e-01, -8.8417e-02,\n",
      "         2.5904e-02, -1.0049e-01, -2.2233e-01,  1.1594e-01,  1.4518e-01,\n",
      "        -1.8040e-01,  1.4957e-01,  2.9139e-02,  1.6254e-01,  5.6028e-02,\n",
      "         9.3770e-02,  2.2979e-02,  1.8084e-01, -2.2161e-01, -1.3599e-01,\n",
      "        -8.7016e-02, -2.0845e-02,  9.9118e-02,  1.7276e-01, -2.0322e-01,\n",
      "         7.6513e-03,  1.8572e-01, -3.9136e-02,  4.7069e-02, -2.5524e-03,\n",
      "         3.8908e-02, -6.7000e-02,  1.0957e-01, -7.0702e-02,  5.1239e-02,\n",
      "        -1.9674e-01,  5.9012e-02,  8.1296e-02,  2.2777e-02,  6.2826e-03,\n",
      "         1.4399e-01,  7.7121e-02, -1.4824e-01,  8.1468e-02,  7.1096e-02,\n",
      "         1.2976e-02, -1.6648e-01,  2.9232e-02,  6.8700e-02,  1.3647e-01,\n",
      "         2.1931e-01,  1.0374e-01,  1.0660e-01, -5.6597e-02,  1.2327e-01,\n",
      "        -2.1515e-01,  9.1784e-02,  2.9397e-03,  1.5813e-01,  1.0416e-01,\n",
      "         1.3009e-01,  5.3032e-02,  6.0445e-02, -8.1127e-02, -3.4436e-02,\n",
      "         2.2241e-01, -3.7219e-02,  1.2806e-01,  1.5071e-01, -1.1907e-01,\n",
      "         3.5255e-02,  1.6726e-02, -1.9233e-01, -1.3472e-02, -1.2268e-01,\n",
      "         1.9164e-01,  1.0197e-01, -1.3999e-01,  1.9317e-01, -5.3895e-02,\n",
      "        -1.4022e-01, -7.6994e-02,  2.1926e-01, -5.5426e-02,  4.9762e-02,\n",
      "        -1.1114e-01,  9.9656e-02,  6.4217e-02, -9.6705e-02, -1.0017e-01,\n",
      "        -1.8673e-01,  9.1673e-02, -1.9082e-01,  1.6450e-02, -1.4682e-01,\n",
      "        -9.3835e-02,  1.2279e-01, -2.0217e-01, -1.5620e-01,  1.5972e-01,\n",
      "        -1.8356e-01])), ('output.weight', tensor([[-1.7035e-02,  2.6462e-02, -1.3837e-02,  ..., -5.9185e-02,\n",
      "         -4.1120e-02, -2.9209e-02],\n",
      "        [-2.6592e-02,  5.1437e-02,  7.3351e-05,  ..., -4.9666e-02,\n",
      "          2.5779e-02, -5.2177e-02],\n",
      "        [ 6.0201e-02,  4.7973e-02, -2.0272e-04,  ...,  6.0985e-02,\n",
      "          2.8727e-02, -4.3621e-02],\n",
      "        ...,\n",
      "        [-1.8706e-02,  5.9401e-02,  5.0762e-03,  ..., -4.2804e-02,\n",
      "          1.8677e-02,  1.1975e-02],\n",
      "        [ 3.3578e-02, -4.7695e-02,  2.0743e-02,  ...,  3.5832e-02,\n",
      "          6.0758e-02,  5.1927e-02],\n",
      "        [ 2.2016e-02, -5.7945e-02, -4.9331e-02,  ..., -4.5015e-02,\n",
      "         -5.6231e-02, -5.4787e-02]])), ('output.bias', tensor([ 0.0067, -0.0122,  0.0313,  0.0071,  0.0555, -0.0212,  0.0327, -0.0597,\n",
      "         0.0152,  0.0158]))])\n"
     ]
    }
   ],
   "source": [
    "#保存包含模型参数的状态字典\n",
    "torch.save(net.state_dict(), 'mlp.params')\n",
    "print(net.state_dict())#是有序字典，包括了两层的权重和偏执（前面定义的多层感知机的所有的参数）\n",
    "#有序字典和通常字典类似，只是它可以记录元素插入其中的顺序，而一般字典是会以任意的顺序迭代的。"
   ]
  },
  {
   "cell_type": "markdown",
   "id": "7bef8dab",
   "metadata": {
    "origin_pos": 24
   },
   "source": [
    "为了恢复模型，我们[**实例化了原始多层感知机模型的一个备份。**]\n",
    "这里我们不需要随机初始化模型参数，而是(**直接读取文件中存储的参数。**)\n"
   ]
  },
  {
   "cell_type": "code",
   "execution_count": 22,
   "id": "3b5367f0",
   "metadata": {
    "execution": {
     "iopub.execute_input": "2022-07-31T02:32:56.556338Z",
     "iopub.status.busy": "2022-07-31T02:32:56.556009Z",
     "iopub.status.idle": "2022-07-31T02:32:56.562475Z",
     "shell.execute_reply": "2022-07-31T02:32:56.561831Z"
    },
    "origin_pos": 26,
    "tab": [
     "pytorch"
    ]
   },
   "outputs": [
    {
     "data": {
      "text/plain": [
       "MLP(\n",
       "  (hidden): Linear(in_features=20, out_features=256, bias=True)\n",
       "  (output): Linear(in_features=256, out_features=10, bias=True)\n",
       ")"
      ]
     },
     "execution_count": 22,
     "metadata": {},
     "output_type": "execute_result"
    }
   ],
   "source": [
    "clone = MLP()#实例化原始多层感知机的一个备份\n",
    "clone.load_state_dict(torch.load('mlp.params'))#将前面储存的包含参数的字典加载出来，利用.load_state_dict使得多层感知机clone的参数并不是随机初始化的而是前面我们保存的参数\n",
    "clone.eval()#从train模式调整为test模式，不再进行训练，更改梯度"
   ]
  },
  {
   "cell_type": "markdown",
   "id": "c2965c95",
   "metadata": {
    "origin_pos": 28
   },
   "source": [
    "由于两个实例具有相同的模型参数，在输入相同的`X`时，\n",
    "两个实例的计算结果应该相同。\n",
    "让我们来验证一下。\n"
   ]
  },
  {
   "cell_type": "code",
   "execution_count": 23,
   "id": "bfd32641",
   "metadata": {
    "execution": {
     "iopub.execute_input": "2022-07-31T02:32:56.565379Z",
     "iopub.status.busy": "2022-07-31T02:32:56.565041Z",
     "iopub.status.idle": "2022-07-31T02:32:56.570481Z",
     "shell.execute_reply": "2022-07-31T02:32:56.569880Z"
    },
    "origin_pos": 30,
    "tab": [
     "pytorch"
    ]
   },
   "outputs": [
    {
     "data": {
      "text/plain": [
       "tensor([[True, True, True, True, True, True, True, True, True, True],\n",
       "        [True, True, True, True, True, True, True, True, True, True]])"
      ]
     },
     "execution_count": 23,
     "metadata": {},
     "output_type": "execute_result"
    }
   ],
   "source": [
    "Y_clone = clone(X)\n",
    "Y_clone == Y#Y=net（X)"
   ]
  },
  {
   "cell_type": "markdown",
   "id": "2092c4f8",
   "metadata": {
    "origin_pos": 32
   },
   "source": [
    "## 小结\n",
    "\n",
    "* `save`和`load`函数可用于张量对象的文件读写。\n",
    "* 我们可以通过参数字典保存和加载网络的全部参数。\n",
    "* 保存架构必须在代码中完成，而不是在参数中完成。\n",
    "\n",
    "## 练习\n",
    "\n",
    "1. 即使不需要将经过训练的模型部署到不同的设备上，存储模型参数还有什么实际的好处？\n",
    "1. 假设我们只想复用网络的一部分，以将其合并到不同的网络架构中。比如说，如果你想在一个新的网络中使用之前网络的前两层，你该怎么做？\n",
    "1. 如何同时保存网络架构和参数？你会对架构加上什么限制？\n"
   ]
  },
  {
   "cell_type": "markdown",
   "id": "cc2f5d85",
   "metadata": {
    "origin_pos": 34,
    "tab": [
     "pytorch"
    ]
   },
   "source": [
    "[Discussions](https://discuss.d2l.ai/t/1839)\n"
   ]
  }
 ],
 "metadata": {
  "kernelspec": {
   "display_name": "Python 3 (ipykernel)",
   "language": "python",
   "name": "python3"
  },
  "language_info": {
   "codemirror_mode": {
    "name": "ipython",
    "version": 3
   },
   "file_extension": ".py",
   "mimetype": "text/x-python",
   "name": "python",
   "nbconvert_exporter": "python",
   "pygments_lexer": "ipython3",
   "version": "3.9.12"
  }
 },
 "nbformat": 4,
 "nbformat_minor": 5
}
