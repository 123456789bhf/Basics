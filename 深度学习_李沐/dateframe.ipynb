{
 "cells": [
  {
   "cell_type": "code",
   "execution_count": 1,
   "id": "889efdad",
   "metadata": {},
   "outputs": [
    {
     "name": "stdout",
     "output_type": "stream",
     "text": [
      "    小明  小红  小李\n",
      "语文  34  67  87\n",
      "数学  68  98  58\n",
      "英语  75  73  86\n",
      "政治  94  59  81\n",
      "    0   1   2\n",
      "0  34  67  87\n",
      "1  68  98  58\n",
      "2  75  73  86\n",
      "3  94  59  81\n"
     ]
    }
   ],
   "source": [
    "import pandas as pd\n",
    "score = [[34,67,87],[68,98,58],[75,73,86],[94,59,81]]\n",
    "name = ['小明','小红','小李']\n",
    "course = ['语文','数学','英语','政治']\n",
    "mydata1 = pd.DataFrame(data=score,columns=name,index=course)#指定行名（index）和列名（columns）\n",
    "print(mydata1)\n",
    "mydata2 = pd.DataFrame(score)#不指定行列名，默认使用0,1,2……\n",
    "print(mydata2)"
   ]
  },
  {
   "cell_type": "code",
   "execution_count": null,
   "id": "353f0434",
   "metadata": {},
   "outputs": [],
   "source": [
    "#指定行列名\n",
    "    小明  小红  小李\n",
    "语文  34  67  87\n",
    "数学  68  98  58\n",
    "英语  75  73  86\n",
    "政治  94  59  81\n",
    "#采用默认行列名\n",
    "    0   1   2  （默认列名）\n",
    "0  34  67  87\n",
    "1  68  98  58\n",
    "2  75  73  86\n",
    "3  94  59  81"
   ]
  },
  {
   "cell_type": "code",
   "execution_count": null,
   "id": "f124962a",
   "metadata": {},
   "outputs": [],
   "source": [
    "#以下用.loc[]抽取1行名为‘语文’的数据（包括所有列）\n",
    "mydata1.loc['语文']\n",
    "mydata1.loc['语文',]\n",
    "mydata1.loc['语文',:]\n",
    "mydata1.loc[['语文'],]\n",
    "mydata1.loc[['语文'],:]\n",
    "#以下用.iloc[]抽取1行名为‘语文’的数据（包括所有列）\n",
    "mydata1.iloc[0]\n",
    "mydata1.iloc[0,]\n",
    "mydata1.iloc[0,:]\n",
    "mydata1.iloc[[0],]\n",
    "mydata1.iloc[[0],:]\n",
    "\n",
    "#输出方式1（第1个参数无[]，这是一个Series对象）：\n",
    "小明    34\n",
    "小红    67\n",
    "小李    87\n",
    "Name: 语文, dtype: int64\n",
    "#输出方式2（第1个参数有[]，这是一个DataFrame对象）：\n",
    "   小明  小红  小李\n",
    "语文  34  67  87\n",
    "Name: 语文, dtype: int64"
   ]
  },
  {
   "cell_type": "code",
   "execution_count": null,
   "id": "b3b0fa28",
   "metadata": {},
   "outputs": [],
   "source": [
    "#指定多行行名抽取\n",
    "print(mydata1.loc[['英语','语文','政治'],:])\n",
    "\n",
    "mydata1.iloc[[1,0],:]\n"
   ]
  }
 ],
 "metadata": {
  "kernelspec": {
   "display_name": "Python 3 (ipykernel)",
   "language": "python",
   "name": "python3"
  },
  "language_info": {
   "codemirror_mode": {
    "name": "ipython",
    "version": 3
   },
   "file_extension": ".py",
   "mimetype": "text/x-python",
   "name": "python",
   "nbconvert_exporter": "python",
   "pygments_lexer": "ipython3",
   "version": "3.9.12"
  }
 },
 "nbformat": 4,
 "nbformat_minor": 5
}
