{
 "cells": [
  {
   "cell_type": "code",
   "execution_count": null,
   "metadata": {},
   "outputs": [],
   "source": [
    "def help(strs):\n",
    "    new_strs=''\n",
    "    for astr in strs:\n",
    "        if astr not in '0123456789+-*/':\n",
    "            new_strs+=astr\n",
    "    balance=True\n",
    "    n=len(new_strs)\n",
    "    i=0\n",
    "    res=0\n",
    "    stack=[]\n",
    "    while i<n:\n",
    "        if new_strs[i]=='(':\n",
    "            stack.append(new_strs[i])\n",
    "        else:\n",
    "            if not stack:\n",
    "                #balance=False\n",
    "                return -1\n",
    "            else:\n",
    "                stack.pop()\n",
    "                res+=1\n",
    "        i+=1\n",
    "    if not stack:\n",
    "        return res\n",
    "    return -1\n",
    "\n",
    "    \n",
    "\n"
   ]
  }
 ],
 "metadata": {
  "kernelspec": {
   "display_name": "myconda",
   "language": "python",
   "name": "python3"
  },
  "language_info": {
   "name": "python",
   "version": "3.8.19"
  }
 },
 "nbformat": 4,
 "nbformat_minor": 2
}
